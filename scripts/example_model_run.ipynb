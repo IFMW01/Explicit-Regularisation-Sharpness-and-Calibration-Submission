{
  "cells": [
    {
      "cell_type": "code",
      "execution_count": 1,
      "metadata": {
        "colab": {
          "base_uri": "https://localhost:8080/"
        },
        "id": "qwJu-MFchKT0",
        "outputId": "5f992f63-cf4f-4443-d85c-aaa04631f25e"
      },
      "outputs": [
        {
          "name": "stdout",
          "output_type": "stream",
          "text": [
            "Collecting torchmetrics\n",
            "  Downloading torchmetrics-1.3.1-py3-none-any.whl (840 kB)\n",
            "\u001b[2K     \u001b[90m━━━━━━━━━━━━━━━━━━━━━━━━━━━━━━━━━━━━━━━━\u001b[0m \u001b[32m840.4/840.4 kB\u001b[0m \u001b[31m4.7 MB/s\u001b[0m eta \u001b[36m0:00:00\u001b[0m\n",
            "\u001b[?25hRequirement already satisfied: numpy>1.20.0 in /usr/local/lib/python3.10/dist-packages (from torchmetrics) (1.25.2)\n",
            "Requirement already satisfied: packaging>17.1 in /usr/local/lib/python3.10/dist-packages (from torchmetrics) (23.2)\n",
            "Requirement already satisfied: torch>=1.10.0 in /usr/local/lib/python3.10/dist-packages (from torchmetrics) (2.1.0+cu121)\n",
            "Collecting lightning-utilities>=0.8.0 (from torchmetrics)\n",
            "  Downloading lightning_utilities-0.10.1-py3-none-any.whl (24 kB)\n",
            "Requirement already satisfied: setuptools in /usr/local/lib/python3.10/dist-packages (from lightning-utilities>=0.8.0->torchmetrics) (67.7.2)\n",
            "Requirement already satisfied: typing-extensions in /usr/local/lib/python3.10/dist-packages (from lightning-utilities>=0.8.0->torchmetrics) (4.9.0)\n",
            "Requirement already satisfied: filelock in /usr/local/lib/python3.10/dist-packages (from torch>=1.10.0->torchmetrics) (3.13.1)\n",
            "Requirement already satisfied: sympy in /usr/local/lib/python3.10/dist-packages (from torch>=1.10.0->torchmetrics) (1.12)\n",
            "Requirement already satisfied: networkx in /usr/local/lib/python3.10/dist-packages (from torch>=1.10.0->torchmetrics) (3.2.1)\n",
            "Requirement already satisfied: jinja2 in /usr/local/lib/python3.10/dist-packages (from torch>=1.10.0->torchmetrics) (3.1.3)\n",
            "Requirement already satisfied: fsspec in /usr/local/lib/python3.10/dist-packages (from torch>=1.10.0->torchmetrics) (2023.6.0)\n",
            "Requirement already satisfied: triton==2.1.0 in /usr/local/lib/python3.10/dist-packages (from torch>=1.10.0->torchmetrics) (2.1.0)\n",
            "Requirement already satisfied: MarkupSafe>=2.0 in /usr/local/lib/python3.10/dist-packages (from jinja2->torch>=1.10.0->torchmetrics) (2.1.5)\n",
            "Requirement already satisfied: mpmath>=0.19 in /usr/local/lib/python3.10/dist-packages (from sympy->torch>=1.10.0->torchmetrics) (1.3.0)\n",
            "Installing collected packages: lightning-utilities, torchmetrics\n",
            "Successfully installed lightning-utilities-0.10.1 torchmetrics-1.3.1\n"
          ]
        }
      ],
      "source": [
        "!pip install torchmetrics"
      ]
    },
    {
      "cell_type": "code",
      "execution_count": 2,
      "metadata": {
        "colab": {
          "base_uri": "https://localhost:8080/"
        },
        "id": "d0kYCay8f2PC",
        "outputId": "31052df7-d329-415d-e245-3423b9959869"
      },
      "outputs": [
        {
          "name": "stdout",
          "output_type": "stream",
          "text": [
            "Cloning into 'R252_Group_Project'...\n",
            "remote: Enumerating objects: 449, done.\u001b[K\n",
            "remote: Counting objects: 100% (296/296), done.\u001b[K\n",
            "remote: Compressing objects: 100% (117/117), done.\u001b[K\n",
            "remote: Total 449 (delta 188), reused 241 (delta 175), pack-reused 153\u001b[K\n",
            "Receiving objects: 100% (449/449), 2.23 MiB | 12.02 MiB/s, done.\n",
            "Resolving deltas: 100% (251/251), done.\n"
          ]
        }
      ],
      "source": [
        "! git clone https://github.com/IFMW01/R252_Group_Project.git"
      ]
    },
    {
      "cell_type": "code",
      "execution_count": 3,
      "metadata": {
        "colab": {
          "base_uri": "https://localhost:8080/"
        },
        "id": "A17ctn_agLsH",
        "outputId": "5566ea94-a05b-44a3-b9fb-0335a92ff6f3"
      },
      "outputs": [
        {
          "name": "stdout",
          "output_type": "stream",
          "text": [
            "/content/R252_Group_Project/scripts\n"
          ]
        }
      ],
      "source": [
        "cd /content/R252_Group_Project/scripts"
      ]
    },
    {
      "cell_type": "code",
      "execution_count": 4,
      "metadata": {
        "colab": {
          "base_uri": "https://localhost:8080/"
        },
        "id": "FBsyPiYYh9Oo",
        "outputId": "728b9f56-c6dd-455f-b227-d06972d485a3"
      },
      "outputs": [
        {
          "name": "stdout",
          "output_type": "stream",
          "text": [
            "usage: run.py [-h] [--baseline BASELINE] [--adversarial ADVERSARIAL] --model_type MODEL_TYPE\n",
            "              [--aug AUG] [--dropout DROPOUT] --dataset DATASET --save_name SAVE_NAME\n",
            "              --save_directory SAVE_DIRECTORY\n",
            "\n",
            "Arguments for creating model\n",
            "\n",
            "options:\n",
            "  -h, --help            show this help message and exit\n",
            "  --baseline BASELINE   Is this the baseline model: True is yes, LEAVE BLANK FOR NO.\n",
            "  --adversarial ADVERSARIAL\n",
            "                        Is this the adversarial model: True is yes, LEAVE BLANK FOR NO.\n",
            "  --model_type MODEL_TYPE\n",
            "                        Type of Model: i.e. \"VGG9\",\"VGG16\" or \"VGG19\"\n",
            "  --aug AUG             Are you using augmentation: True is yes, LEAVE BLANK FOR NO\n",
            "  --dropout DROPOUT     Amount of dropout to be applied: 0.05,0.1,0.15\n",
            "  --dataset DATASET     CIFAR10 or CIFAR100\n",
            "  --save_name SAVE_NAME\n",
            "                        Name of the model you are creating ending in .pth\n",
            "  --save_directory SAVE_DIRECTORY\n",
            "                        Name of directory to save the model to\n"
          ]
        }
      ],
      "source": [
        "! python run.py -h"
      ]
    },
    {
      "cell_type": "code",
      "execution_count": 5,
      "metadata": {
        "colab": {
          "base_uri": "https://localhost:8080/"
        },
        "id": "XS4mR4jmihbf",
        "outputId": "01abb101-e192-4be0-c954-38100fe3fc84"
      },
      "outputs": [
        {
          "name": "stdout",
          "output_type": "stream",
          "text": [
            "Found 1 CUDA devices!\n",
            "\tAttached device is Tesla T4\n",
            "Found 1 CUDA devices!\n",
            "\tAttached device is Tesla T4\n",
            "SETTINGS\n",
            "baseline: True\n",
            "adversarial: False\n",
            "model_type: VGG19\n",
            "aug: False\n",
            "dropout: 0.0\n",
            "Initialisation saved, see: experiment/initialisation_base.pth\n",
            "Downloading https://www.cs.toronto.edu/~kriz/cifar-10-python.tar.gz to ./data/cifar-10-python.tar.gz\n",
            "100% 170498071/170498071 [00:02<00:00, 64300045.94it/s]\n",
            "Extracting ./data/cifar-10-python.tar.gz to ./data\n",
            "Files already downloaded and verified\n",
            "loss: 1.457408, train accuracy: 0.56250 Train ECE: 0.017369 [epoch 1 and batch 195/195 (step 0)]\n",
            "---------- TEST ACC ---------- val loss: 1.221643, val accuracy: 0.4375 Test ECE: 0.030665 [epoch 1 and batch 195/39] ---------- TEST ACC ----------\n",
            "loss: 0.963791, train accuracy: 0.70000 Train ECE: 0.013504 [epoch 2 and batch 195/195 (step 0)]\n",
            "---------- TEST ACC ---------- val loss: 0.968749, val accuracy: 0.5625 Test ECE: 0.032634 [epoch 2 and batch 195/39] ---------- TEST ACC ----------\n",
            "loss: 0.729223, train accuracy: 0.73750 Train ECE: 0.014226 [epoch 3 and batch 195/195 (step 0)]\n",
            "---------- TEST ACC ---------- val loss: 0.864546, val accuracy: 0.6250 Test ECE: 0.028861 [epoch 3 and batch 195/39] ---------- TEST ACC ----------\n",
            "loss: 0.545729, train accuracy: 0.81250 Train ECE: 0.017788 [epoch 4 and batch 195/195 (step 0)]\n",
            "---------- TEST ACC ---------- val loss: 0.846375, val accuracy: 0.7500 Test ECE: 0.059818 [epoch 4 and batch 195/39] ---------- TEST ACC ----------\n",
            "loss: 0.393786, train accuracy: 0.90000 Train ECE: 0.021393 [epoch 5 and batch 195/195 (step 0)]\n",
            "---------- TEST ACC ---------- val loss: 0.973698, val accuracy: 0.6875 Test ECE: 0.114291 [epoch 5 and batch 195/39] ---------- TEST ACC ----------\n",
            "loss: 0.275341, train accuracy: 0.88750 Train ECE: 0.020491 [epoch 6 and batch 195/195 (step 0)]\n",
            "---------- TEST ACC ---------- val loss: 0.897149, val accuracy: 0.6250 Test ECE: 0.111574 [epoch 6 and batch 195/39] ---------- TEST ACC ----------\n",
            "loss: 0.191924, train accuracy: 0.88750 Train ECE: 0.017972 [epoch 7 and batch 195/195 (step 0)]\n",
            "---------- TEST ACC ---------- val loss: 1.002146, val accuracy: 0.6875 Test ECE: 0.145614 [epoch 7 and batch 195/39] ---------- TEST ACC ----------\n",
            "loss: 0.136421, train accuracy: 0.93750 Train ECE: 0.016051 [epoch 8 and batch 195/195 (step 0)]\n",
            "---------- TEST ACC ---------- val loss: 1.029476, val accuracy: 0.6250 Test ECE: 0.146481 [epoch 8 and batch 195/39] ---------- TEST ACC ----------\n",
            "loss: 0.105390, train accuracy: 0.95000 Train ECE: 0.012596 [epoch 9 and batch 195/195 (step 0)]\n",
            "---------- TEST ACC ---------- val loss: 1.094739, val accuracy: 0.5625 Test ECE: 0.160086 [epoch 9 and batch 195/39] ---------- TEST ACC ----------\n",
            "loss: 0.082840, train accuracy: 0.93750 Train ECE: 0.010437 [epoch 10 and batch 195/195 (step 0)]\n",
            "---------- TEST ACC ---------- val loss: 1.007483, val accuracy: 0.6875 Test ECE: 0.152237 [epoch 10 and batch 195/39] ---------- TEST ACC ----------\n",
            "loss: 0.066776, train accuracy: 0.92500 Train ECE: 0.008786 [epoch 11 and batch 195/195 (step 0)]\n",
            "---------- TEST ACC ---------- val loss: 1.221705, val accuracy: 0.6875 Test ECE: 0.184477 [epoch 11 and batch 195/39] ---------- TEST ACC ----------\n",
            "loss: 0.064489, train accuracy: 0.97500 Train ECE: 0.008058 [epoch 12 and batch 195/195 (step 0)]\n",
            "---------- TEST ACC ---------- val loss: 1.217685, val accuracy: 0.7500 Test ECE: 0.187324 [epoch 12 and batch 195/39] ---------- TEST ACC ----------\n",
            "loss: 0.040603, train accuracy: 1.00000 Train ECE: 0.007054 [epoch 13 and batch 195/195 (step 0)]\n",
            "---------- TEST ACC ---------- val loss: 1.074113, val accuracy: 0.5625 Test ECE: 0.165430 [epoch 13 and batch 195/39] ---------- TEST ACC ----------\n",
            "loss: 0.021274, train accuracy: 0.95000 Train ECE: 0.006293 [epoch 14 and batch 195/195 (step 0)]\n",
            "---------- TEST ACC ---------- val loss: 1.092083, val accuracy: 0.6875 Test ECE: 0.165837 [epoch 14 and batch 195/39] ---------- TEST ACC ----------\n",
            "loss: 0.018308, train accuracy: 0.98750 Train ECE: 0.005432 [epoch 15 and batch 195/195 (step 0)]\n",
            "---------- TEST ACC ---------- val loss: 1.039942, val accuracy: 0.7500 Test ECE: 0.159566 [epoch 15 and batch 195/39] ---------- TEST ACC ----------\n",
            "loss: 0.013508, train accuracy: 0.97500 Train ECE: 0.004051 [epoch 16 and batch 195/195 (step 0)]\n",
            "---------- TEST ACC ---------- val loss: 1.041119, val accuracy: 0.8125 Test ECE: 0.157988 [epoch 16 and batch 195/39] ---------- TEST ACC ----------\n",
            "loss: 0.007668, train accuracy: 0.98750 Train ECE: 0.003506 [epoch 17 and batch 195/195 (step 0)]\n",
            "---------- TEST ACC ---------- val loss: 1.081049, val accuracy: 0.7500 Test ECE: 0.162777 [epoch 17 and batch 195/39] ---------- TEST ACC ----------\n",
            "loss: 0.003324, train accuracy: 0.98750 Train ECE: 0.002153 [epoch 18 and batch 195/195 (step 0)]\n",
            "---------- TEST ACC ---------- val loss: 1.030796, val accuracy: 0.7500 Test ECE: 0.154602 [epoch 18 and batch 195/39] ---------- TEST ACC ----------\n",
            "loss: 0.002700, train accuracy: 0.97500 Train ECE: 0.001484 [epoch 19 and batch 195/195 (step 0)]\n",
            "---------- TEST ACC ---------- val loss: 1.034516, val accuracy: 0.7500 Test ECE: 0.160508 [epoch 19 and batch 195/39] ---------- TEST ACC ----------\n",
            "loss: 0.002847, train accuracy: 1.00000 Train ECE: 0.001344 [epoch 20 and batch 195/195 (step 0)]\n",
            "---------- TEST ACC ---------- val loss: 1.017714, val accuracy: 0.7500 Test ECE: 0.157879 [epoch 20 and batch 195/39] ---------- TEST ACC ----------\n",
            "Finished Training\n",
            "Best model occured at: 16 Test ACC: 0.8125, saved at: experiment/best_baseline.pth\n",
            "Final model saved, see: experimentbaseline.pth\n"
          ]
        }
      ],
      "source": [
        "# Make sure you are using GPU Runtime\n",
        "! python run.py --baseline True --dataset CIFAR10  --save_name baseline.pth --save_directory experiment --model_type VGG19"
      ]
    },
    {
      "cell_type": "code",
      "execution_count": 6,
      "metadata": {
        "colab": {
          "base_uri": "https://localhost:8080/"
        },
        "id": "4JuEeRRhlSs2",
        "outputId": "0d332b65-9736-4a45-a083-c7b0f9fc78ec"
      },
      "outputs": [
        {
          "name": "stdout",
          "output_type": "stream",
          "text": [
            "Found 1 CUDA devices!\n",
            "\tAttached device is Tesla T4\n",
            "Found 1 CUDA devices!\n",
            "\tAttached device is Tesla T4\n",
            "SETTINGS\n",
            "baseline: False\n",
            "adversarial: False\n",
            "model_type: VGG19\n",
            "aug: False\n",
            "dropout: 0.05\n",
            "Files already downloaded and verified\n",
            "Files already downloaded and verified\n",
            "loss: 1.471637, train accuracy: 0.60000 Train ECE: 0.021825 [epoch 1 and batch 195/195 (step 0)]\n",
            "---------- TEST ACC ---------- val loss: 1.170269, val accuracy: 0.5625 Test ECE: 0.017072 [epoch 1 and batch 195/39] ---------- TEST ACC ----------\n",
            "loss: 0.982522, train accuracy: 0.63750 Train ECE: 0.012924 [epoch 2 and batch 195/195 (step 0)]\n",
            "---------- TEST ACC ---------- val loss: 1.004385, val accuracy: 0.5000 Test ECE: 0.024703 [epoch 2 and batch 195/39] ---------- TEST ACC ----------\n",
            "loss: 0.743385, train accuracy: 0.71250 Train ECE: 0.014183 [epoch 3 and batch 195/195 (step 0)]\n",
            "---------- TEST ACC ---------- val loss: 0.856777, val accuracy: 0.6875 Test ECE: 0.039303 [epoch 3 and batch 195/39] ---------- TEST ACC ----------\n",
            "loss: 0.559329, train accuracy: 0.83750 Train ECE: 0.017591 [epoch 4 and batch 195/195 (step 0)]\n",
            "---------- TEST ACC ---------- val loss: 0.948014, val accuracy: 0.5625 Test ECE: 0.072586 [epoch 4 and batch 195/39] ---------- TEST ACC ----------\n",
            "loss: 0.418662, train accuracy: 0.80000 Train ECE: 0.021530 [epoch 5 and batch 195/195 (step 0)]\n",
            "---------- TEST ACC ---------- val loss: 0.918509, val accuracy: 0.5625 Test ECE: 0.103408 [epoch 5 and batch 195/39] ---------- TEST ACC ----------\n",
            "loss: 0.302939, train accuracy: 0.91250 Train ECE: 0.020132 [epoch 6 and batch 195/195 (step 0)]\n",
            "---------- TEST ACC ---------- val loss: 0.949036, val accuracy: 0.5625 Test ECE: 0.118514 [epoch 6 and batch 195/39] ---------- TEST ACC ----------\n",
            "loss: 0.210006, train accuracy: 0.87500 Train ECE: 0.017751 [epoch 7 and batch 195/195 (step 0)]\n",
            "---------- TEST ACC ---------- val loss: 1.030241, val accuracy: 0.7500 Test ECE: 0.152190 [epoch 7 and batch 195/39] ---------- TEST ACC ----------\n",
            "loss: 0.158666, train accuracy: 0.95000 Train ECE: 0.013997 [epoch 8 and batch 195/195 (step 0)]\n",
            "---------- TEST ACC ---------- val loss: 1.000569, val accuracy: 0.6875 Test ECE: 0.145289 [epoch 8 and batch 195/39] ---------- TEST ACC ----------\n",
            "loss: 0.119208, train accuracy: 0.95000 Train ECE: 0.012611 [epoch 9 and batch 195/195 (step 0)]\n",
            "---------- TEST ACC ---------- val loss: 1.171333, val accuracy: 0.5625 Test ECE: 0.175709 [epoch 9 and batch 195/39] ---------- TEST ACC ----------\n",
            "loss: 0.084601, train accuracy: 0.96250 Train ECE: 0.011868 [epoch 10 and batch 195/195 (step 0)]\n",
            "---------- TEST ACC ---------- val loss: 1.068976, val accuracy: 0.6875 Test ECE: 0.161132 [epoch 10 and batch 195/39] ---------- TEST ACC ----------\n",
            "loss: 0.069334, train accuracy: 0.91250 Train ECE: 0.010320 [epoch 11 and batch 195/195 (step 0)]\n",
            "---------- TEST ACC ---------- val loss: 1.199266, val accuracy: 0.8125 Test ECE: 0.187354 [epoch 11 and batch 195/39] ---------- TEST ACC ----------\n",
            "loss: 0.056106, train accuracy: 0.98750 Train ECE: 0.008335 [epoch 12 and batch 195/195 (step 0)]\n",
            "---------- TEST ACC ---------- val loss: 1.099583, val accuracy: 0.6250 Test ECE: 0.167784 [epoch 12 and batch 195/39] ---------- TEST ACC ----------\n",
            "loss: 0.034753, train accuracy: 1.00000 Train ECE: 0.007834 [epoch 13 and batch 195/195 (step 0)]\n",
            "---------- TEST ACC ---------- val loss: 1.078736, val accuracy: 0.6250 Test ECE: 0.161220 [epoch 13 and batch 195/39] ---------- TEST ACC ----------\n",
            "loss: 0.022722, train accuracy: 0.97500 Train ECE: 0.006603 [epoch 14 and batch 195/195 (step 0)]\n",
            "---------- TEST ACC ---------- val loss: 1.203244, val accuracy: 0.6250 Test ECE: 0.182946 [epoch 14 and batch 195/39] ---------- TEST ACC ----------\n",
            "loss: 0.020000, train accuracy: 0.98750 Train ECE: 0.005309 [epoch 15 and batch 195/195 (step 0)]\n",
            "---------- TEST ACC ---------- val loss: 1.098694, val accuracy: 0.6875 Test ECE: 0.164458 [epoch 15 and batch 195/39] ---------- TEST ACC ----------\n",
            "loss: 0.012736, train accuracy: 1.00000 Train ECE: 0.004690 [epoch 16 and batch 195/195 (step 0)]\n",
            "---------- TEST ACC ---------- val loss: 1.083577, val accuracy: 0.7500 Test ECE: 0.162485 [epoch 16 and batch 195/39] ---------- TEST ACC ----------\n",
            "loss: 0.008124, train accuracy: 0.97500 Train ECE: 0.003302 [epoch 17 and batch 195/195 (step 0)]\n",
            "---------- TEST ACC ---------- val loss: 1.065759, val accuracy: 0.7500 Test ECE: 0.157381 [epoch 17 and batch 195/39] ---------- TEST ACC ----------\n",
            "loss: 0.006178, train accuracy: 0.98750 Train ECE: 0.002841 [epoch 18 and batch 195/195 (step 0)]\n",
            "---------- TEST ACC ---------- val loss: 1.111071, val accuracy: 0.6875 Test ECE: 0.163793 [epoch 18 and batch 195/39] ---------- TEST ACC ----------\n",
            "loss: 0.003213, train accuracy: 0.98750 Train ECE: 0.002176 [epoch 19 and batch 195/195 (step 0)]\n",
            "---------- TEST ACC ---------- val loss: 1.056879, val accuracy: 0.6875 Test ECE: 0.155731 [epoch 19 and batch 195/39] ---------- TEST ACC ----------\n",
            "loss: 0.001856, train accuracy: 1.00000 Train ECE: 0.001409 [epoch 20 and batch 195/195 (step 0)]\n",
            "---------- TEST ACC ---------- val loss: 1.022967, val accuracy: 0.6875 Test ECE: 0.155142 [epoch 20 and batch 195/39] ---------- TEST ACC ----------\n",
            "Finished Training\n",
            "Best model occured at: 11 Test ACC: 0.8125, saved at: experiment/best_dropout_0_5.pth\n",
            "Final model saved, see: experimentdropout_0_5.pth\n"
          ]
        }
      ],
      "source": [
        "! python run.py --dropout 0.05 --dataset CIFAR10  --save_name dropout_0_5.pth --save_directory experiment --model_type VGG19"
      ]
    },
    {
      "cell_type": "code",
      "execution_count": 7,
      "metadata": {
        "colab": {
          "base_uri": "https://localhost:8080/"
        },
        "id": "tb8txFZU8aPP",
        "outputId": "f3492e6b-a2b0-4605-be9c-509f2452f80c"
      },
      "outputs": [
        {
          "name": "stdout",
          "output_type": "stream",
          "text": [
            "Found 1 CUDA devices!\n",
            "\tAttached device is Tesla T4\n",
            "Found 1 CUDA devices!\n",
            "\tAttached device is Tesla T4\n",
            "SETTINGS\n",
            "baseline: False\n",
            "adversarial: False\n",
            "model_type: VGG19\n",
            "aug: True\n",
            "dropout: 0.0\n",
            "Files already downloaded and verified\n",
            "Files already downloaded and verified\n",
            "loss: 1.798273, train accuracy: 0.42500 Train ECE: 0.006902 [epoch 1 and batch 195/195 (step 0)]\n",
            "---------- TEST ACC ---------- val loss: 1.554297, val accuracy: 0.5000 Test ECE: 0.028432 [epoch 1 and batch 195/39] ---------- TEST ACC ----------\n",
            "loss: 1.373012, train accuracy: 0.45000 Train ECE: 0.007736 [epoch 2 and batch 195/195 (step 0)]\n",
            "---------- TEST ACC ---------- val loss: 1.408315, val accuracy: 0.3750 Test ECE: 0.050029 [epoch 2 and batch 195/39] ---------- TEST ACC ----------\n",
            "loss: 1.155601, train accuracy: 0.57500 Train ECE: 0.007634 [epoch 3 and batch 195/195 (step 0)]\n",
            "---------- TEST ACC ---------- val loss: 1.298856, val accuracy: 0.5000 Test ECE: 0.033749 [epoch 3 and batch 195/39] ---------- TEST ACC ----------\n",
            "loss: 1.021966, train accuracy: 0.71250 Train ECE: 0.005920 [epoch 4 and batch 195/195 (step 0)]\n",
            "---------- TEST ACC ---------- val loss: 1.100438, val accuracy: 0.5625 Test ECE: 0.034315 [epoch 4 and batch 195/39] ---------- TEST ACC ----------\n",
            "loss: 0.913847, train accuracy: 0.63750 Train ECE: 0.009948 [epoch 5 and batch 195/195 (step 0)]\n",
            "---------- TEST ACC ---------- val loss: 1.047149, val accuracy: 0.3125 Test ECE: 0.036291 [epoch 5 and batch 195/39] ---------- TEST ACC ----------\n",
            "loss: 0.846253, train accuracy: 0.78750 Train ECE: 0.006076 [epoch 6 and batch 195/195 (step 0)]\n",
            "---------- TEST ACC ---------- val loss: 0.976659, val accuracy: 0.6250 Test ECE: 0.044852 [epoch 6 and batch 195/39] ---------- TEST ACC ----------\n",
            "loss: 0.774029, train accuracy: 0.65000 Train ECE: 0.007523 [epoch 7 and batch 195/195 (step 0)]\n",
            "---------- TEST ACC ---------- val loss: 0.911710, val accuracy: 0.6875 Test ECE: 0.030126 [epoch 7 and batch 195/39] ---------- TEST ACC ----------\n",
            "loss: 0.710696, train accuracy: 0.72500 Train ECE: 0.006780 [epoch 8 and batch 195/195 (step 0)]\n",
            "---------- TEST ACC ---------- val loss: 0.957937, val accuracy: 0.6250 Test ECE: 0.054159 [epoch 8 and batch 195/39] ---------- TEST ACC ----------\n",
            "loss: 0.665271, train accuracy: 0.73750 Train ECE: 0.008260 [epoch 9 and batch 195/195 (step 0)]\n",
            "---------- TEST ACC ---------- val loss: 0.928030, val accuracy: 0.5625 Test ECE: 0.044239 [epoch 9 and batch 195/39] ---------- TEST ACC ----------\n",
            "loss: 0.609941, train accuracy: 0.78750 Train ECE: 0.007246 [epoch 10 and batch 195/195 (step 0)]\n",
            "---------- TEST ACC ---------- val loss: 0.963524, val accuracy: 0.5000 Test ECE: 0.084456 [epoch 10 and batch 195/39] ---------- TEST ACC ----------\n",
            "loss: 0.572742, train accuracy: 0.80000 Train ECE: 0.008375 [epoch 11 and batch 195/195 (step 0)]\n",
            "---------- TEST ACC ---------- val loss: 0.928223, val accuracy: 0.8125 Test ECE: 0.077656 [epoch 11 and batch 195/39] ---------- TEST ACC ----------\n",
            "loss: 0.531811, train accuracy: 0.82500 Train ECE: 0.007739 [epoch 12 and batch 195/195 (step 0)]\n",
            "---------- TEST ACC ---------- val loss: 0.856983, val accuracy: 0.8125 Test ECE: 0.075814 [epoch 12 and batch 195/39] ---------- TEST ACC ----------\n",
            "loss: 0.502736, train accuracy: 0.75000 Train ECE: 0.006478 [epoch 13 and batch 195/195 (step 0)]\n",
            "---------- TEST ACC ---------- val loss: 0.913203, val accuracy: 0.6875 Test ECE: 0.086240 [epoch 13 and batch 195/39] ---------- TEST ACC ----------\n",
            "loss: 0.470208, train accuracy: 0.86250 Train ECE: 0.006143 [epoch 14 and batch 195/195 (step 0)]\n",
            "---------- TEST ACC ---------- val loss: 0.840092, val accuracy: 0.6250 Test ECE: 0.068694 [epoch 14 and batch 195/39] ---------- TEST ACC ----------\n",
            "loss: 0.446028, train accuracy: 0.87500 Train ECE: 0.007564 [epoch 15 and batch 195/195 (step 0)]\n",
            "---------- TEST ACC ---------- val loss: 0.884144, val accuracy: 0.6875 Test ECE: 0.084833 [epoch 15 and batch 195/39] ---------- TEST ACC ----------\n",
            "loss: 0.424444, train accuracy: 0.86250 Train ECE: 0.005058 [epoch 16 and batch 195/195 (step 0)]\n",
            "---------- TEST ACC ---------- val loss: 0.865018, val accuracy: 0.6250 Test ECE: 0.095757 [epoch 16 and batch 195/39] ---------- TEST ACC ----------\n",
            "loss: 0.406605, train accuracy: 0.88750 Train ECE: 0.006761 [epoch 17 and batch 195/195 (step 0)]\n",
            "---------- TEST ACC ---------- val loss: 1.070908, val accuracy: 0.6875 Test ECE: 0.128408 [epoch 17 and batch 195/39] ---------- TEST ACC ----------\n",
            "loss: 0.393499, train accuracy: 0.82500 Train ECE: 0.005694 [epoch 18 and batch 195/195 (step 0)]\n",
            "---------- TEST ACC ---------- val loss: 0.883416, val accuracy: 0.6250 Test ECE: 0.091753 [epoch 18 and batch 195/39] ---------- TEST ACC ----------\n",
            "loss: 0.369245, train accuracy: 0.81250 Train ECE: 0.005305 [epoch 19 and batch 195/195 (step 0)]\n",
            "---------- TEST ACC ---------- val loss: 0.914472, val accuracy: 0.6250 Test ECE: 0.101094 [epoch 19 and batch 195/39] ---------- TEST ACC ----------\n",
            "loss: 0.353066, train accuracy: 0.88750 Train ECE: 0.005589 [epoch 20 and batch 195/195 (step 0)]\n",
            "---------- TEST ACC ---------- val loss: 0.845845, val accuracy: 0.6875 Test ECE: 0.087826 [epoch 20 and batch 195/39] ---------- TEST ACC ----------\n",
            "Finished Training\n",
            "Best model occured at: 11 Test ACC: 0.8125, saved at: experiment/best_aug.pth\n",
            "Final model saved, see: experimentaug.pth\n"
          ]
        }
      ],
      "source": [
        "! python run.py --aug True --dataset CIFAR10  --save_name aug.pth --save_directory experiment --model_type VGG19"
      ]
    }
  ],
  "metadata": {
    "accelerator": "GPU",
    "colab": {
      "gpuType": "T4",
      "provenance": []
    },
    "kernelspec": {
      "display_name": "Python 3",
      "name": "python3"
    },
    "language_info": {
      "name": "python"
    }
  },
  "nbformat": 4,
  "nbformat_minor": 0
}

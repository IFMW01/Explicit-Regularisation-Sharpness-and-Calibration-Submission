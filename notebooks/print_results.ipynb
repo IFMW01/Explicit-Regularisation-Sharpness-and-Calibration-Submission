{
 "cells": [
  {
   "cell_type": "code",
   "execution_count": 1,
   "metadata": {},
   "outputs": [],
   "source": [
    "import os\n",
    "from collections import defaultdict\n",
    "from pprint import pprint\n",
    "\n",
    "import numpy as np\n",
    "import yaml\n",
    "from easydict import EasyDict\n",
    "from tqdm import tqdm\n",
    "\n",
    "import wandb"
   ]
  },
  {
   "cell_type": "code",
   "execution_count": 21,
   "metadata": {},
   "outputs": [],
   "source": [
    "models = [\"VGG19\"]\n",
    "datasets = [\"CIFAR10\"]\n",
    "initializations = [\"baseline\", \"from-adversarial\"]\n",
    "regularizations = [\"no-regularisation\", \"dropout\", \"augmentation\", \"weight_decay\"]"
   ]
  },
  {
   "cell_type": "code",
   "execution_count": 56,
   "metadata": {},
   "outputs": [],
   "source": [
    "api = wandb.Api()\n",
    "\n",
    "with open(\"../configs/base_config.yaml\", \"r\") as file:\n",
    "    config = EasyDict(yaml.safe_load(file))\n",
    "\n",
    "early_stopping = True\n",
    "\n",
    "seeds = [43, 91, 17]\n",
    "\n",
    "numbers = {init: {reg: defaultdict(list) for reg in regularizations} for init in initializations}"
   ]
  },
  {
   "cell_type": "code",
   "execution_count": 57,
   "metadata": {},
   "outputs": [],
   "source": [
    "def get_statistics(run):\n",
    "    summary_metrics = run.summary_metrics\n",
    "    logged_metrics = run.history(keys=[\"train/loss\", \"train/acc\", \"train/ECE\", \"eval/loss\", \"eval/acc\", \"eval/ECE\"], pandas=False)\n",
    "\n",
    "    output = {}\n",
    "\n",
    "    # if early_stopping:\n",
    "    #     eval_accuracies = [res[\"eval/acc\"] for res in logged_metrics]\n",
    "    #     best_epoch = np.argmax(eval_accuracies)\n",
    "    #     for key, value in logged_metrics[best_epoch].items():\n",
    "    #         if key.startswith(\"eval/\") or key.startswith(\"train/\"):\n",
    "    #             output[key] = value\n",
    "    # else:\n",
    "    #     for key, value in logged_metrics[-1].items():\n",
    "    #         if key.startswith(\"eval/\") or key.startswith(\"train/\"):\n",
    "    #             output[key] = value\n",
    "\n",
    "\n",
    "    for key, value in summary_metrics.items():\n",
    "        if early_stopping and key.startswith(\"measures_early_stopping/\"):\n",
    "            output[key] = value\n",
    "        elif not early_stopping and key.startswith(\"measures/\"):\n",
    "            output[key] = value\n",
    "    return output\n",
    "            "
   ]
  },
  {
   "cell_type": "code",
   "execution_count": 59,
   "metadata": {},
   "outputs": [
    {
     "name": "stderr",
     "output_type": "stream",
     "text": [
      "  0%|          | 0/4 [00:00<?, ?it/s]"
     ]
    },
    {
     "name": "stdout",
     "output_type": "stream",
     "text": [
      "igor-VGG19-CIFAR10-baseline-with-no-regularisation-seed-43-v2\n",
      "61.091068246692885\n",
      "igor-VGG19-CIFAR10-baseline-with-no-regularisation-seed-91-v2\n",
      "195.50387235102244\n"
     ]
    },
    {
     "name": "stderr",
     "output_type": "stream",
     "text": [
      " 25%|██▌       | 1/4 [00:00<00:01,  1.60it/s]"
     ]
    },
    {
     "name": "stdout",
     "output_type": "stream",
     "text": [
      "igor-VGG19-CIFAR10-baseline-with-no-regularisation-seed-17-v2\n",
      "120.02682561606343\n"
     ]
    },
    {
     "name": "stderr",
     "output_type": "stream",
     "text": [
      " 75%|███████▌  | 3/4 [00:02<00:00,  1.31it/s]"
     ]
    },
    {
     "name": "stdout",
     "output_type": "stream",
     "text": [
      "0.05\n",
      "0.1\n",
      "0.15\n",
      "0.05\n",
      "0.1\n",
      "0.15\n",
      "0.05\n",
      "0.1\n"
     ]
    },
    {
     "name": "stderr",
     "output_type": "stream",
     "text": [
      "100%|██████████| 4/4 [00:04<00:00,  1.03s/it]\n"
     ]
    },
    {
     "name": "stdout",
     "output_type": "stream",
     "text": [
      "0.15\n"
     ]
    },
    {
     "name": "stderr",
     "output_type": "stream",
     "text": [
      "  0%|          | 0/4 [00:00<?, ?it/s]"
     ]
    },
    {
     "name": "stdout",
     "output_type": "stream",
     "text": [
      "igor-VGG19-CIFAR10-from-adversarial-with-no-regularisation-seed-43-v2\n",
      "0.7096637757824737\n"
     ]
    },
    {
     "name": "stderr",
     "output_type": "stream",
     "text": [
      " 25%|██▌       | 1/4 [00:00<00:01,  1.77it/s]"
     ]
    },
    {
     "name": "stdout",
     "output_type": "stream",
     "text": [
      "igor-VGG19-CIFAR10-from-adversarial-with-no-regularisation-seed-91-v2\n",
      "3.65132278756937\n",
      "igor-VGG19-CIFAR10-from-adversarial-with-no-regularisation-seed-17-v2\n",
      "26.620046064374037\n"
     ]
    },
    {
     "name": "stderr",
     "output_type": "stream",
     "text": [
      " 75%|███████▌  | 3/4 [00:02<00:00,  1.18it/s]"
     ]
    },
    {
     "name": "stdout",
     "output_type": "stream",
     "text": [
      "0.05\n",
      "0.1\n",
      "0.15\n",
      "0.05\n",
      "0.1\n",
      "0.15\n",
      "0.05\n",
      "0.1\n",
      "0.15\n"
     ]
    },
    {
     "name": "stderr",
     "output_type": "stream",
     "text": [
      "100%|██████████| 4/4 [00:04<00:00,  1.14s/it]\n"
     ]
    }
   ],
   "source": [
    "for init in initializations:\n",
    "    numbers[init][\"dropout\"] = {}\n",
    "\n",
    "    for p in [0.1, 0.5]:\n",
    "        numbers[init][\"dropout\"][p] = defaultdict(list)\n",
    "\n",
    "    numbers[init][\"weight_decay\"] = {}\n",
    "    for wd in [0.05, 0.1, 0.15]:\n",
    "        numbers[init][\"weight_decay\"][wd] = defaultdict(list)\n",
    "\n",
    "runs = api.runs(f\"{config.wandb.entity}/{config.wandb.project}\")\n",
    "\n",
    "for init in initializations:\n",
    "    for reg in tqdm(regularizations):\n",
    "            \n",
    "        for seed in seeds:\n",
    "\n",
    "            run_name = f\"igor-VGG19-CIFAR10-{init}-with-{reg}-seed-{seed}\"\n",
    "\n",
    "            if reg == \"weight_decay\":\n",
    "\n",
    "                for wd in numbers[init][reg]:\n",
    "                    print(wd)\n",
    "                    run_name_1 = f\"igor-VGG19-CIFAR10-{init}-with-no-regularisation-seed-{seed}-v2\"\n",
    "                    run_name_2 = f\"igor-VGG19-CIFAR10-{init}-with-{reg}{str(wd)}-seed-{seed}-v2\"\n",
    "                    for run in runs:                \n",
    "                        if (run.name == run_name_1 or run.name == run_name_2) and run.config[\"weight_decay\"] == wd:\n",
    "                            stats = get_statistics(run)\n",
    "\n",
    "                            for key, value in stats.items():\n",
    "                                numbers[init][reg][wd][key].append(value)\n",
    "                            break\n",
    "                    else:\n",
    "                        raise Exception(f\"{init} {reg} {wd} {seed}\")\n",
    "            elif reg == \"dropout\":\n",
    "                for p in numbers[init][reg]:\n",
    "                    run_name_1 = f\"igor-VGG19-CIFAR10-{init}-with-{reg}-seed-{seed}-v2\"\n",
    "                    run_name_2 = f\"igor-VGG19-CIFAR10-{init}-with-{reg}_{str(p)}-seed-{seed}-v2\"\n",
    "                    for run in runs:\n",
    "                        if (run.name == run_name_1 or run.name == run_name_2) and run.config[\"dropout\"] == p:\n",
    "                            stats = get_statistics(run)\n",
    "\n",
    "                            for key, value in stats.items():\n",
    "                                numbers[init][reg][p][key].append(value)\n",
    "                            break\n",
    "                    else:\n",
    "                        raise Exception(f\"{init} {reg} {p} {seed}\")\n",
    "            else:\n",
    "                run_name = f\"igor-VGG19-CIFAR10-{init}-with-{reg}-seed-{seed}-v2\"\n",
    "                for run in runs:\n",
    "                    if run.name == run_name and (run.config[\"weight_decay\"] == 0 or \"weight_decay\" not in run.config) and (run.config[\"dropout\"] == 0.0 or \"dropout\" not in run.config):\n",
    "                        stats = get_statistics(run)\n",
    "                        if reg == \"no-regularisation\":\n",
    "                            print(run.name)\n",
    "                            print(stats['measures_early_stopping/relative_flatness'])\n",
    "                        for key, value in stats.items():\n",
    "                            numbers[init][reg][key].append(value)\n",
    "                        break\n",
    "                else:\n",
    "                    raise Exception(f\"{init} {reg} {seed}\")"
   ]
  },
  {
   "cell_type": "code",
   "execution_count": 42,
   "metadata": {},
   "outputs": [],
   "source": [
    "for init in initializations:\n",
    "    for reg in regularizations:\n",
    "        if reg == \"weight_decay\":\n",
    "            if len(numbers[init][reg]) == 0:\n",
    "                del numbers[init][reg]\n",
    "            for wd in numbers[init][reg]:\n",
    "                numbers[init][reg+\"_\"+str(wd)] = numbers[init][reg][wd]\n",
    "            del numbers[init][reg]\n",
    "        elif reg == \"dropout\":\n",
    "            if len(numbers[init][reg]) == 0:\n",
    "                del numbers[init][reg]\n",
    "            for p in numbers[init][reg]:\n",
    "                numbers[init][reg+\"_\"+str(p)] = numbers[init][reg][p]\n",
    "            del numbers[init][reg]"
   ]
  },
  {
   "cell_type": "code",
   "execution_count": 43,
   "metadata": {},
   "outputs": [],
   "source": [
    "output = {init: {reg: {} for reg in numbers[\"baseline\"]} for init in numbers}\n",
    "\n",
    "for init, reg_results in numbers.items():\n",
    "    for reg, results in reg_results.items():\n",
    "\n",
    "        for key, values in dict(results).items():\n",
    "            mean = np.mean(values)\n",
    "            std = np.std(values)\n",
    "            output[init][reg][key] = (mean, std)"
   ]
  },
  {
   "cell_type": "code",
   "execution_count": 44,
   "metadata": {},
   "outputs": [],
   "source": [
    "prefix = r\"\"\"\\begin{table}\n",
    "\\centering\n",
    "\\begin{tabular}{l>{\\raggedleft\\arraybackslash}p{2cm}>{\\raggedleft\\arraybackslash}p{2cm}>{\\raggedleft\\arraybackslash}p{2cm}>{\\raggedleft\\arraybackslash}p{2cm}>{\\raggedleft\\arraybackslash}p{2cm}>{\\raggedleft\\arraybackslash}p{2cm}}\n",
    "\\toprule\n",
    "\"\"\"\n",
    "suffix = r\"\"\"\\bottomrule\n",
    "\\end{tabular}\n",
    "\\caption{Various measures for VGG-19 on CIFAR-10}\n",
    "\\label{tab:measures}\n",
    "\\end{table}\n",
    "\"\"\""
   ]
  },
  {
   "cell_type": "code",
   "execution_count": 45,
   "metadata": {},
   "outputs": [],
   "source": [
    "table = prefix\n",
    "measures = ['measures/squared_euclidean_norm', 'measures/fisher_rao_norm', 'measures/relative_flatness', 'measures/hessian_trace', 'measures/max_hessian_eigenvalue']\n",
    "if early_stopping:\n",
    "    measures = [m.replace(\"measures/\", \"measures_early_stopping/\") for m in measures]\n",
    "    \n",
    "for measure in measures:\n",
    "    measure = measure.replace(\"_\", \" \").split(\"/\")[1].capitalize()\n",
    "    table += f\"& {measure} \""
   ]
  },
  {
   "cell_type": "code",
   "execution_count": 46,
   "metadata": {},
   "outputs": [
    {
     "data": {
      "text/plain": [
       "['measures/squared_euclidean_norm',\n",
       " 'measures/fisher_rao_norm',\n",
       " 'measures/relative_flatness',\n",
       " 'measures/hessian_trace',\n",
       " 'measures/max_hessian_eigenvalue']"
      ]
     },
     "execution_count": 46,
     "metadata": {},
     "output_type": "execute_result"
    }
   ],
   "source": [
    "measures"
   ]
  },
  {
   "cell_type": "code",
   "execution_count": 47,
   "metadata": {},
   "outputs": [],
   "source": [
    "for init in output:\n",
    "    table += f\"\\\\\\\\ \\\\midrule \\n \\multicolumn{{6}}{{c}}{{\\\\textbf{{{init.capitalize()}}}}} \\\\\\\\ \\\\midrule \\n\"\n",
    "    for reg in output[\"baseline\"]:\n",
    "        table += f\"\\\\textit{{{reg.replace('-', ' ').replace('_', ' ').capitalize()}}} \"\n",
    "        for measure in measures:\n",
    "            if measure not in output[init][reg]:\n",
    "                table += \"& - \"\n",
    "            mean, std = output[init][reg][measure]\n",
    "\n",
    "\n",
    "            if not \"hessian\" in measure.lower():\n",
    "                table += f\"& {mean:.2f}\" + r\"$_{\\pm \" + f\"{std:.2f}\" + r\"}$ \"\n",
    "            else:\n",
    "                mean = f\"{mean:.2e}\".replace(\"+\", \"\").replace(\"e0\", \"e\")\n",
    "                std = f\"{std:.2e}\".replace(\"+\", \"\").replace(\"e0\", \"e\").replace(\"e-0\", \"e-\").replace(\"e\", r\"\\text{e}\")\n",
    "                table += f\"& {mean}\" + r\"$_{\\pm \" + f\"{std}\" + r\"}$ \"\n",
    "        table += \"\\\\\\\\ \\n\""
   ]
  },
  {
   "cell_type": "code",
   "execution_count": 48,
   "metadata": {},
   "outputs": [],
   "source": [
    "table += suffix"
   ]
  },
  {
   "cell_type": "code",
   "execution_count": 49,
   "metadata": {},
   "outputs": [
    {
     "name": "stdout",
     "output_type": "stream",
     "text": [
      "\\begin{table}\n",
      "\\centering\n",
      "\\begin{tabular}{l>{\\raggedleft\\arraybackslash}p{2cm}>{\\raggedleft\\arraybackslash}p{2cm}>{\\raggedleft\\arraybackslash}p{2cm}>{\\raggedleft\\arraybackslash}p{2cm}>{\\raggedleft\\arraybackslash}p{2cm}>{\\raggedleft\\arraybackslash}p{2cm}}\n",
      "\\toprule\n",
      "& Squared euclidean norm & Fisher rao norm & Relative flatness & Hessian trace & Max hessian eigenvalue \\\\ \\midrule \n",
      " \\multicolumn{6}{c}{\\textbf{Baseline}} \\\\ \\midrule \n",
      "\\textit{No regularisation} & 7.11$_{\\pm 0.15}$ & 0.02$_{\\pm 0.00}$ & 0.53$_{\\pm 0.01}$ & 2.67e2$_{\\pm 1.46\\text{e}1}$ & 8.97e0$_{\\pm 6.28\\text{e}-1}$ \\\\ \n",
      "\\textit{Augmentation} & 6.45$_{\\pm 0.03}$ & 3.47$_{\\pm 0.20}$ & 67.69$_{\\pm 1.54}$ & 4.44e4$_{\\pm 1.94\\text{e}3}$ & 1.78e3$_{\\pm 3.32\\text{e}2}$ \\\\ \n",
      "\\textit{Dropout 0.1} & 7.58$_{\\pm 0.09}$ & 0.02$_{\\pm 0.00}$ & 0.49$_{\\pm 0.01}$ & 2.04e2$_{\\pm 1.05\\text{e}1}$ & 7.65e0$_{\\pm 2.64\\text{e}-1}$ \\\\ \n",
      "\\textit{Dropout 0.5} & 9.67$_{\\pm 0.09}$ & 0.03$_{\\pm 0.00}$ & 0.58$_{\\pm 0.02}$ & 2.48e2$_{\\pm 8.12\\text{e}1}$ & 9.00e0$_{\\pm 2.61\\text{e}0}$ \\\\ \n",
      "\\textit{Weight decay 0.05} & 11.22$_{\\pm 0.01}$ & 4.49$_{\\pm 0.10}$ & 25.08$_{\\pm 0.29}$ & 1.90e5$_{\\pm 4.32\\text{e}4}$ & 2.41e4$_{\\pm 3.68\\text{e}3}$ \\\\ \n",
      "\\textit{Weight decay 0.1} & 8.71$_{\\pm 0.01}$ & 5.74$_{\\pm 0.08}$ & 23.02$_{\\pm 0.42}$ & 9.34e5$_{\\pm 2.09\\text{e}5}$ & 1.78e5$_{\\pm 1.95\\text{e}4}$ \\\\ \n",
      "\\textit{Weight decay 0.15} & 5.90$_{\\pm 0.01}$ & 5.33$_{\\pm 0.17}$ & 13.66$_{\\pm 0.70}$ & 1.33e6$_{\\pm 4.82\\text{e}5}$ & 4.21e5$_{\\pm 1.41\\text{e}5}$ \\\\ \n",
      "\\\\ \\midrule \n",
      " \\multicolumn{6}{c}{\\textbf{From-adversarial}} \\\\ \\midrule \n",
      "\\textit{No regularisation} & 9.37$_{\\pm 0.15}$ & 0.01$_{\\pm 0.00}$ & 0.39$_{\\pm 0.01}$ & 2.46e2$_{\\pm 1.50\\text{e}1}$ & 7.40e0$_{\\pm 3.06\\text{e}-1}$ \\\\ \n",
      "\\textit{Augmentation} & 8.60$_{\\pm 0.09}$ & 3.56$_{\\pm 0.18}$ & 108.42$_{\\pm 8.10}$ & 3.94e4$_{\\pm 4.98\\text{e}3}$ & 1.57e3$_{\\pm 1.24\\text{e}2}$ \\\\ \n",
      "\\textit{Dropout 0.1} & 9.37$_{\\pm 0.11}$ & 0.01$_{\\pm 0.00}$ & 0.38$_{\\pm 0.01}$ & 1.93e2$_{\\pm 5.58\\text{e}0}$ & 5.93e0$_{\\pm 4.31\\text{e}-1}$ \\\\ \n",
      "\\textit{Dropout 0.5} & 10.94$_{\\pm 0.10}$ & 0.02$_{\\pm 0.00}$ & 0.42$_{\\pm 0.01}$ & 1.44e2$_{\\pm 7.08\\text{e}0}$ & 4.20e0$_{\\pm 6.22\\text{e}-1}$ \\\\ \n",
      "\\textit{Weight decay 0.05} & 11.25$_{\\pm 0.00}$ & 4.74$_{\\pm 0.32}$ & 25.99$_{\\pm 0.54}$ & 2.01e5$_{\\pm 3.76\\text{e}4}$ & 2.00e4$_{\\pm 4.56\\text{e}3}$ \\\\ \n",
      "\\textit{Weight decay 0.1} & 8.75$_{\\pm 0.00}$ & 5.68$_{\\pm 0.02}$ & 23.43$_{\\pm 0.45}$ & 7.07e5$_{\\pm 5.10\\text{e}4}$ & 1.44e5$_{\\pm 4.73\\text{e}4}$ \\\\ \n",
      "\\textit{Weight decay 0.15} & 5.89$_{\\pm 0.00}$ & 5.55$_{\\pm 0.02}$ & 14.51$_{\\pm 0.19}$ & 1.19e6$_{\\pm 3.20\\text{e}5}$ & 3.30e5$_{\\pm 6.26\\text{e}4}$ \\\\ \n",
      "\\bottomrule\n",
      "\\end{tabular}\n",
      "\\caption{Various measures for VGG-19 on CIFAR-10}\n",
      "\\label{tab:measures}\n",
      "\\end{table}\n",
      "\n"
     ]
    }
   ],
   "source": [
    "print(table)"
   ]
  },
  {
   "cell_type": "code",
   "execution_count": 235,
   "metadata": {},
   "outputs": [
    {
     "name": "stdout",
     "output_type": "stream",
     "text": [
      "{'baseline': {'augmentation': {},\n",
      "              'dropout_0.1': {},\n",
      "              'dropout_0.5': {'eval/ECE': (0.15715893109639487,\n",
      "                                           0.0022362117710209646),\n",
      "                              'eval/acc': (0.7083333333333334,\n",
      "                                           0.02946278254943948),\n",
      "                              'eval/loss': (1.0410934478044511,\n",
      "                                            0.005464427414741201),\n",
      "                              'train/ECE': (0.001004324876703322,\n",
      "                                            0.0002477828758228618),\n",
      "                              'train/acc': (1.0, 0.0),\n",
      "                              'train/loss': (0.0012533368187802876,\n",
      "                                             0.00034717178729339103)},\n",
      "              'no-regularisation': {},\n",
      "              'weight_decay_0.05': {'eval/ECE': (0.07135884712139766,\n",
      "                                                 0.0028329768334999015),\n",
      "                                    'eval/acc': (0.75, 0.0),\n",
      "                                    'eval/loss': (0.8033289253711701,\n",
      "                                                  0.016672710379696812),\n",
      "                                    'train/ECE': (0.15936087568600973,\n",
      "                                                  0.000744936143549695),\n",
      "                                    'train/acc': (0.9416666666666668,\n",
      "                                                  0.021245914639969946),\n",
      "                                    'train/loss': (0.3292416316666165,\n",
      "                                                   0.0027004685432411467)},\n",
      "              'weight_decay_0.1': {'eval/ECE': (0.17156354089577994,\n",
      "                                                0.026375870148007047),\n",
      "                                   'eval/acc': (0.875, 0.0),\n",
      "                                   'eval/loss': (1.0645673990249633,\n",
      "                                                 0.10004695847340585),\n",
      "                                   'train/ECE': (0.31686768929163617,\n",
      "                                                 0.0016277087085732169),\n",
      "                                   'train/acc': (0.9041666666666668,\n",
      "                                                 0.015590239111558123),\n",
      "                                   'train/loss': (0.6136562158258593,\n",
      "                                                  0.0038682291572147563)},\n",
      "              'weight_decay_0.15': {'eval/ECE': (0.28692539036273956,\n",
      "                                                 0.06715041805699408),\n",
      "                                    'eval/acc': (0.7083333333333334,\n",
      "                                                 0.02946278254943948),\n",
      "                                    'eval/loss': (1.4477889319260917,\n",
      "                                                  0.10702288315664872),\n",
      "                                    'train/ECE': (0.4627891480922699,\n",
      "                                                  0.0010454003170860813),\n",
      "                                    'train/acc': (0.85, 0.027003086243366076),\n",
      "                                    'train/loss': (1.0697344543577052,\n",
      "                                                   0.002682370395574817)}},\n",
      " 'from-adversarial': {'augmentation': {},\n",
      "                      'dropout_0.1': {},\n",
      "                      'dropout_0.5': {'eval/ECE': (0.21647721032301584,\n",
      "                                                   0.00490260184836838),\n",
      "                                      'eval/acc': (0.6875, 0.13501543121683043),\n",
      "                                      'eval/loss': (1.4389765044053398,\n",
      "                                                    0.04066876372153631),\n",
      "                                      'train/ECE': (0.0007076911473025879,\n",
      "                                                    1.386583354831374e-05),\n",
      "                                      'train/acc': (1.0, 0.0),\n",
      "                                      'train/loss': (0.0008868721943763623,\n",
      "                                                     1.389064666893692e-05)},\n",
      "                      'no-regularisation': {},\n",
      "                      'weight_decay_0.05': {'eval/ECE': (0.0665229062239329,\n",
      "                                                         0.007601054250083534),\n",
      "                                            'eval/acc': (0.7291666666666666,\n",
      "                                                         0.02946278254943948),\n",
      "                                            'eval/loss': (0.9137639045715332,\n",
      "                                                          0.07499928549673009),\n",
      "                                            'train/ECE': (0.1605375111103058,\n",
      "                                                          0.0007676680759681743),\n",
      "                                            'train/acc': (0.9375,\n",
      "                                                          0.02041241452319317),\n",
      "                                            'train/loss': (0.33323923812634276,\n",
      "                                                           0.0015334908219278515)},\n",
      "                      'weight_decay_0.1': {'eval/ECE': (0.18912456929683685,\n",
      "                                                        0.019564865868111812),\n",
      "                                           'eval/acc': (0.6875,\n",
      "                                                        0.05103103630798288),\n",
      "                                           'eval/loss': (1.0205960253874462,\n",
      "                                                         0.04532512894888152),\n",
      "                                           'train/ECE': (0.31856533885002136,\n",
      "                                                         0.0008839595101257125),\n",
      "                                           'train/acc': (0.9166666666666666,\n",
      "                                                         0.015590239111558084),\n",
      "                                           'train/loss': (0.602443953963364,\n",
      "                                                          0.002733168230304406)},\n",
      "                      'weight_decay_0.15': {'eval/ECE': (0.3279159764448802,\n",
      "                                                         0.009306223912344808),\n",
      "                                            'eval/acc': (0.7083333333333334,\n",
      "                                                         0.07795119555779044),\n",
      "                                            'eval/loss': (1.3289272199074427,\n",
      "                                                          0.002354819007412585),\n",
      "                                            'train/ECE': (0.46293683846791583,\n",
      "                                                          0.0012915840829665131),\n",
      "                                            'train/acc': (0.85,\n",
      "                                                          0.01767766952966373),\n",
      "                                            'train/loss': (1.0697578944924737,\n",
      "                                                           0.002309897176995942)}}}\n"
     ]
    }
   ],
   "source": [
    "pprint(output)"
   ]
  },
  {
   "cell_type": "code",
   "execution_count": 17,
   "metadata": {},
   "outputs": [],
   "source": [
    "table = prefix\n",
    "measures = [\"train/loss\", \"train/acc\", \"train/ECE\", \"eval/loss\", \"eval/acc\", \"eval/ECE\"]"
   ]
  },
  {
   "cell_type": "code",
   "execution_count": 18,
   "metadata": {},
   "outputs": [
    {
     "ename": "KeyError",
     "evalue": "'train/loss'",
     "output_type": "error",
     "traceback": [
      "\u001b[0;31m---------------------------------------------------------------------------\u001b[0m",
      "\u001b[0;31mKeyError\u001b[0m                                  Traceback (most recent call last)",
      "Cell \u001b[0;32mIn[18], line 8\u001b[0m\n\u001b[1;32m      6\u001b[0m table \u001b[38;5;241m+\u001b[39m\u001b[38;5;241m=\u001b[39m \u001b[38;5;124mf\u001b[39m\u001b[38;5;124m\"\u001b[39m\u001b[38;5;130;01m\\\\\u001b[39;00m\u001b[38;5;130;01m\\\\\u001b[39;00m\u001b[38;5;124m \u001b[39m\u001b[38;5;130;01m\\n\u001b[39;00m\u001b[38;5;124m \u001b[39m\u001b[38;5;130;01m\\\\\u001b[39;00m\u001b[38;5;124mtextit\u001b[39m\u001b[38;5;130;01m{{\u001b[39;00m\u001b[38;5;132;01m{\u001b[39;00mreg\u001b[38;5;241m.\u001b[39mreplace(\u001b[38;5;124m'\u001b[39m\u001b[38;5;124m-\u001b[39m\u001b[38;5;124m'\u001b[39m,\u001b[38;5;250m \u001b[39m\u001b[38;5;124m'\u001b[39m\u001b[38;5;124m \u001b[39m\u001b[38;5;124m'\u001b[39m)\u001b[38;5;241m.\u001b[39mcapitalize()\u001b[38;5;132;01m}\u001b[39;00m\u001b[38;5;130;01m}}\u001b[39;00m\u001b[38;5;124m \u001b[39m\u001b[38;5;124m\"\u001b[39m\n\u001b[1;32m      7\u001b[0m \u001b[38;5;28;01mfor\u001b[39;00m measure \u001b[38;5;129;01min\u001b[39;00m measures:\n\u001b[0;32m----> 8\u001b[0m     mean, std \u001b[38;5;241m=\u001b[39m \u001b[43moutput\u001b[49m\u001b[43m[\u001b[49m\u001b[43minit\u001b[49m\u001b[43m]\u001b[49m\u001b[43m[\u001b[49m\u001b[43mreg\u001b[49m\u001b[43m]\u001b[49m\u001b[43m[\u001b[49m\u001b[43mmeasure\u001b[49m\u001b[43m]\u001b[49m\n\u001b[1;32m      9\u001b[0m     table \u001b[38;5;241m+\u001b[39m\u001b[38;5;241m=\u001b[39m \u001b[38;5;124mf\u001b[39m\u001b[38;5;124m\"\u001b[39m\u001b[38;5;124m& \u001b[39m\u001b[38;5;132;01m{\u001b[39;00mmean\u001b[38;5;132;01m:\u001b[39;00m\u001b[38;5;124m.2f\u001b[39m\u001b[38;5;132;01m}\u001b[39;00m\u001b[38;5;124m\"\u001b[39m \u001b[38;5;241m+\u001b[39m \u001b[38;5;124mr\u001b[39m\u001b[38;5;124m\"\u001b[39m\u001b[38;5;124m$_\u001b[39m\u001b[38;5;124m{\u001b[39m\u001b[38;5;124m\\\u001b[39m\u001b[38;5;124mpm \u001b[39m\u001b[38;5;124m\"\u001b[39m \u001b[38;5;241m+\u001b[39m \u001b[38;5;124mf\u001b[39m\u001b[38;5;124m\"\u001b[39m\u001b[38;5;132;01m{\u001b[39;00mstd\u001b[38;5;132;01m:\u001b[39;00m\u001b[38;5;124m.2f\u001b[39m\u001b[38;5;132;01m}\u001b[39;00m\u001b[38;5;124m\"\u001b[39m \u001b[38;5;241m+\u001b[39m \u001b[38;5;124mr\u001b[39m\u001b[38;5;124m\"\u001b[39m\u001b[38;5;124m}$ \u001b[39m\u001b[38;5;124m\"\u001b[39m\n\u001b[1;32m     10\u001b[0m table \u001b[38;5;241m+\u001b[39m\u001b[38;5;241m=\u001b[39m \u001b[38;5;124m\"\u001b[39m\u001b[38;5;130;01m\\n\u001b[39;00m\u001b[38;5;124m\"\u001b[39m\n",
      "\u001b[0;31mKeyError\u001b[0m: 'train/loss'"
     ]
    }
   ],
   "source": [
    "for init in output:\n",
    "    table += f\"\\\\\\\\ \\\\midrule \\n \\multicolumn{{7}}{{c}}{{\\\\textbf{{{init.capitalize()}}}}} \\\\\\\\ \\\\midrule \\n\"\n",
    "    for reg in output[\"baseline\"]:\n",
    "        if len(output[init][reg]) == 0:\n",
    "            continue\n",
    "        table += f\"\\\\\\\\ \\n \\\\textit{{{reg.replace('-', ' ').capitalize()}}} \"\n",
    "        for measure in measures:\n",
    "            mean, std = output[init][reg][measure]\n",
    "            table += f\"& {mean:.2f}\" + r\"$_{\\pm \" + f\"{std:.2f}\" + r\"}$ \"\n",
    "        table += \"\\n\""
   ]
  },
  {
   "cell_type": "code",
   "execution_count": 19,
   "metadata": {},
   "outputs": [],
   "source": [
    "table += suffix"
   ]
  },
  {
   "cell_type": "code",
   "execution_count": 20,
   "metadata": {},
   "outputs": [
    {
     "name": "stdout",
     "output_type": "stream",
     "text": [
      "\\begin{table}\n",
      "\\centering\n",
      "\\begin{tabular}{l>{\\raggedleft\\arraybackslash}p{2cm}>{\\raggedleft\\arraybackslash}p{2cm}>{\\raggedleft\\arraybackslash}p{2cm}>{\\raggedleft\\arraybackslash}p{2cm}>{\\raggedleft\\arraybackslash}p{2cm}>{\\raggedleft\\arraybackslash}p{2cm}}\n",
      "\\toprule\n",
      "\\\\ \\midrule \n",
      " \\multicolumn{7}{c}{\\textbf{Baseline}} \\\\ \\midrule \n",
      "\\\\ \n",
      " \\textit{No regularisation} \\bottomrule\n",
      "\\end{tabular}\n",
      "\\caption{Various measures for VGG-19 on CIFAR-10}\n",
      "\\label{tab:measures}\n",
      "\\end{table}\n",
      "\n"
     ]
    }
   ],
   "source": [
    "print(table)"
   ]
  },
  {
   "cell_type": "code",
   "execution_count": null,
   "metadata": {},
   "outputs": [],
   "source": []
  },
  {
   "cell_type": "code",
   "execution_count": null,
   "metadata": {},
   "outputs": [],
   "source": []
  }
 ],
 "metadata": {
  "kernelspec": {
   "display_name": "Python 3",
   "language": "python",
   "name": "python3"
  },
  "language_info": {
   "codemirror_mode": {
    "name": "ipython",
    "version": 3
   },
   "file_extension": ".py",
   "mimetype": "text/x-python",
   "name": "python",
   "nbconvert_exporter": "python",
   "pygments_lexer": "ipython3",
   "version": "3.8.18"
  }
 },
 "nbformat": 4,
 "nbformat_minor": 2
}

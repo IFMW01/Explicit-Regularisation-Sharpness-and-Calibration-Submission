{
 "cells": [
  {
   "cell_type": "code",
   "execution_count": 61,
   "metadata": {},
   "outputs": [],
   "source": [
    "import os\n",
    "from collections import defaultdict\n",
    "from pprint import pprint\n",
    "\n",
    "import numpy as np\n",
    "import yaml\n",
    "from easydict import EasyDict\n",
    "\n",
    "import wandb"
   ]
  },
  {
   "cell_type": "code",
   "execution_count": 62,
   "metadata": {},
   "outputs": [],
   "source": [
    "models = [\"VGG19\"]\n",
    "datasets = [\"CIFAR10\"]\n",
    "initializations = [\"baseline\", \"from-adversarial\"]\n",
    "regularizations = [\"no-regularisation\", \"dropout\", \"augmentation\"]"
   ]
  },
  {
   "cell_type": "code",
   "execution_count": 63,
   "metadata": {},
   "outputs": [],
   "source": [
    "api = wandb.Api()\n",
    "\n",
    "with open(\"../configs/base_config.yaml\", \"r\") as file:\n",
    "    config = EasyDict(yaml.safe_load(file))\n",
    "\n",
    "early_stopping = False\n",
    "\n",
    "seeds = [43, 91, 17]\n",
    "numbers = {init: {reg: defaultdict(list) for reg in regularizations} for init in initializations}\n",
    "\n",
    "runs = api.runs(f\"{config.wandb.entity}/{config.wandb.project}\")\n",
    "\n",
    "for init in initializations:\n",
    "    for reg in regularizations:\n",
    "            \n",
    "        for seed in seeds:\n",
    "\n",
    "            run_name = f\"igor-VGG19-CIFAR10-{init}-with-{reg}-seed-{seed}\"\n",
    "\n",
    "            for run in runs:\n",
    "                if run.name == run_name:\n",
    "                    break\n",
    "            else:\n",
    "                raise Exception\n",
    "\n",
    "            summary_metrics = run.summary_metrics\n",
    "            logged_metrics = run.history(keys=[\"train/loss\", \"train/acc\", \"train/ECE\", \"eval/loss\", \"eval/acc\", \"eval/ECE\"], pandas=False)\n",
    "\n",
    "            if early_stopping:\n",
    "                eval_accuracies = [res[\"eval/acc\"] for res in logged_metrics]\n",
    "                best_epoch = np.argmax(eval_accuracies)\n",
    "                for key, value in logged_metrics[best_epoch].items():\n",
    "                    if key.startswith(\"eval/\") or key.startswith(\"train/\"):\n",
    "                        numbers[init][reg][key].append(value)\n",
    "            else:\n",
    "                for key, value in logged_metrics[-1].items():\n",
    "                    if key.startswith(\"eval/\") or key.startswith(\"train/\"):\n",
    "                        numbers[init][reg][key].append(value)\n",
    "\n",
    "            for key, value in summary_metrics.items():\n",
    "                if key.startswith(\"measures/\"):\n",
    "                    numbers[init][reg][key].append(value)\n",
    "            "
   ]
  },
  {
   "cell_type": "code",
   "execution_count": 64,
   "metadata": {},
   "outputs": [],
   "source": [
    "output = {init: {reg: {} for reg in regularizations} for init in initializations}\n",
    "\n",
    "for init, reg_results in numbers.items():\n",
    "    for reg, results in reg_results.items():\n",
    "\n",
    "        for key, values in dict(results).items():\n",
    "            mean = np.mean(values)\n",
    "            std = np.std(values)\n",
    "            output[init][reg][key] = (mean, std)"
   ]
  },
  {
   "cell_type": "code",
   "execution_count": 65,
   "metadata": {},
   "outputs": [],
   "source": [
    "prefix = r\"\"\"\\begin{table}\n",
    "\\centering\n",
    "\\begin{tabular}{l>{\\raggedleft\\arraybackslash}p{2cm}>{\\raggedleft\\arraybackslash}p{2cm}>{\\raggedleft\\arraybackslash}p{2cm}>{\\raggedleft\\arraybackslash}p{2cm}>{\\raggedleft\\arraybackslash}p{2cm}>{\\raggedleft\\arraybackslash}p{2cm}}\n",
    "\\toprule\n",
    "\"\"\"\n",
    "suffix = r\"\"\"\\bottomrule\n",
    "\\end{tabular}\n",
    "\\caption{Various measures for VGG-19 on CIFAR-10}\n",
    "\\label{tab:measures}\n",
    "\\end{table}\n",
    "\"\"\""
   ]
  },
  {
   "cell_type": "code",
   "execution_count": 66,
   "metadata": {},
   "outputs": [],
   "source": [
    "table = prefix\n",
    "measures = ['measures/pacbayes_flatness', 'measures/fisher_rao_norm', 'measures/relative_flatness', 'measures/hessian_trace', 'measures/max_hessian_eigenvalue', 'measures/squared_euclidean_norm']\n",
    "for measure in measures:\n",
    "    measure = measure.replace(\"_\", \" \").split(\"/\")[1].capitalize()\n",
    "    table += f\"& {measure} \""
   ]
  },
  {
   "cell_type": "code",
   "execution_count": 67,
   "metadata": {},
   "outputs": [],
   "source": [
    "for init in initializations:\n",
    "    table += f\"\\\\\\\\ \\\\midrule \\n \\multicolumn{{7}}{{c}}{{\\\\textbf{{{init.capitalize()}}}}} \\\\\\\\ \\\\midrule \\n\"\n",
    "    for reg in regularizations:\n",
    "        \n",
    "        table += f\"\\\\textit{{{reg.replace('-', ' ').capitalize()}}} \"\n",
    "        for measure in measures:\n",
    "            if measure not in output[init][reg]:\n",
    "                table += \"& - \"\n",
    "            mean, std = output[init][reg][measure]\n",
    "            table += f\"& {round(mean, 2)}\" + r\"$_{\\pm \" + f\"{round(std, 2)}\" + r\"}$ \"\n",
    "        table += \"\\\\\\\\ \\n\""
   ]
  },
  {
   "cell_type": "code",
   "execution_count": 68,
   "metadata": {},
   "outputs": [],
   "source": [
    "table += suffix"
   ]
  },
  {
   "cell_type": "code",
   "execution_count": 69,
   "metadata": {},
   "outputs": [
    {
     "name": "stdout",
     "output_type": "stream",
     "text": [
      "\\begin{table}\n",
      "\\centering\n",
      "\\begin{tabular}{l>{\\raggedleft\\arraybackslash}p{2cm}>{\\raggedleft\\arraybackslash}p{2cm}>{\\raggedleft\\arraybackslash}p{2cm}>{\\raggedleft\\arraybackslash}p{2cm}>{\\raggedleft\\arraybackslash}p{2cm}>{\\raggedleft\\arraybackslash}p{2cm}}\n",
      "\\toprule\n",
      "& Pacbayes flatness & Fisher rao norm & Relative flatness & Hessian trace & Max hessian eigenvalue & Squared euclidean norm \\\\ \\midrule \n",
      " \\multicolumn{7}{c}{\\textbf{Baseline}} \\\\ \\midrule \n",
      "\\textit{No regularisation} & 0.25$_{\\pm 0.0}$ & 13.54$_{\\pm 0.6}$ & 17.86$_{\\pm 1.23}$ & 19.37$_{\\pm 1.83}$ & 2.64$_{\\pm 0.62}$ & 7.11$_{\\pm 0.15}$ \\\\ \n",
      "\\textit{Dropout} & 0.25$_{\\pm 0.0}$ & 14.41$_{\\pm 0.35}$ & 13.47$_{\\pm 0.16}$ & 15.88$_{\\pm 0.59}$ & 2.45$_{\\pm 0.43}$ & 7.58$_{\\pm 0.09}$ \\\\ \n",
      "\\textit{Augmentation} & 0.25$_{\\pm 0.0}$ & 9.7$_{\\pm 0.64}$ & 26.82$_{\\pm 2.35}$ & 35.76$_{\\pm 0.87}$ & 4.51$_{\\pm 0.3}$ & 6.45$_{\\pm 0.03}$ \\\\ \n",
      "\\\\ \\midrule \n",
      " \\multicolumn{7}{c}{\\textbf{From-adversarial}} \\\\ \\midrule \n",
      "\\textit{No regularisation} & 0.25$_{\\pm 0.0}$ & 17.31$_{\\pm 0.88}$ & 29.03$_{\\pm 1.83}$ & 23.24$_{\\pm 0.69}$ & 2.48$_{\\pm 0.13}$ & 9.37$_{\\pm 0.15}$ \\\\ \n",
      "\\textit{Dropout} & 0.25$_{\\pm 0.0}$ & 16.08$_{\\pm 0.12}$ & 22.73$_{\\pm 1.18}$ & 19.84$_{\\pm 0.84}$ & 2.29$_{\\pm 0.12}$ & 9.43$_{\\pm 0.09}$ \\\\ \n",
      "\\textit{Augmentation} & 0.25$_{\\pm 0.0}$ & 10.68$_{\\pm 0.76}$ & 43.98$_{\\pm 2.3}$ & 37.31$_{\\pm 1.51}$ & 5.42$_{\\pm 0.3}$ & 8.6$_{\\pm 0.09}$ \\\\ \n",
      "\\bottomrule\n",
      "\\end{tabular}\n",
      "\\caption{Various measures for VGG-19 on CIFAR-10}\n",
      "\\label{tab:measures}\n",
      "\\end{table}\n",
      "\n"
     ]
    }
   ],
   "source": [
    "print(table)"
   ]
  },
  {
   "cell_type": "code",
   "execution_count": 70,
   "metadata": {},
   "outputs": [],
   "source": [
    "table = prefix\n",
    "measures = []\n",
    "measures = [\"Pacbayes flatness\", \"Fisher rao norm\", \"Relative flatness\", \"Hessian trace\", \"Max hessian eigenvalue\", \"Squared euclidean norm\"]\n",
    "\n",
    "for measure in output[\"baseline\"][\"no-regularisation\"]:\n",
    "    if measure.startswith(\"eval/\") or measure.startswith(\"train/\"):\n",
    "        measures.append(measure)\n",
    "        table += f\"& {measure} \""
   ]
  },
  {
   "cell_type": "code",
   "execution_count": 71,
   "metadata": {},
   "outputs": [
    {
     "ename": "KeyError",
     "evalue": "'Pacbayes flatness'",
     "output_type": "error",
     "traceback": [
      "\u001b[0;31m---------------------------------------------------------------------------\u001b[0m",
      "\u001b[0;31mKeyError\u001b[0m                                  Traceback (most recent call last)",
      "Cell \u001b[0;32mIn[71], line 6\u001b[0m\n\u001b[1;32m      4\u001b[0m table \u001b[38;5;241m+\u001b[39m\u001b[38;5;241m=\u001b[39m \u001b[38;5;124mf\u001b[39m\u001b[38;5;124m\"\u001b[39m\u001b[38;5;130;01m\\\\\u001b[39;00m\u001b[38;5;130;01m\\\\\u001b[39;00m\u001b[38;5;124m \u001b[39m\u001b[38;5;130;01m\\n\u001b[39;00m\u001b[38;5;124m \u001b[39m\u001b[38;5;130;01m\\\\\u001b[39;00m\u001b[38;5;124mtextit\u001b[39m\u001b[38;5;130;01m{{\u001b[39;00m\u001b[38;5;132;01m{\u001b[39;00mreg\u001b[38;5;241m.\u001b[39mreplace(\u001b[38;5;124m'\u001b[39m\u001b[38;5;124m-\u001b[39m\u001b[38;5;124m'\u001b[39m,\u001b[38;5;250m \u001b[39m\u001b[38;5;124m'\u001b[39m\u001b[38;5;124m \u001b[39m\u001b[38;5;124m'\u001b[39m)\u001b[38;5;241m.\u001b[39mcapitalize()\u001b[38;5;132;01m}\u001b[39;00m\u001b[38;5;130;01m}}\u001b[39;00m\u001b[38;5;124m \u001b[39m\u001b[38;5;124m\"\u001b[39m\n\u001b[1;32m      5\u001b[0m \u001b[38;5;28;01mfor\u001b[39;00m measure \u001b[38;5;129;01min\u001b[39;00m measures:\n\u001b[0;32m----> 6\u001b[0m     mean, std \u001b[38;5;241m=\u001b[39m \u001b[43moutput\u001b[49m\u001b[43m[\u001b[49m\u001b[43minit\u001b[49m\u001b[43m]\u001b[49m\u001b[43m[\u001b[49m\u001b[43mreg\u001b[49m\u001b[43m]\u001b[49m\u001b[43m[\u001b[49m\u001b[43mmeasure\u001b[49m\u001b[43m]\u001b[49m\n\u001b[1;32m      7\u001b[0m     table \u001b[38;5;241m+\u001b[39m\u001b[38;5;241m=\u001b[39m \u001b[38;5;124mf\u001b[39m\u001b[38;5;124m\"\u001b[39m\u001b[38;5;124m& \u001b[39m\u001b[38;5;132;01m{\u001b[39;00m\u001b[38;5;28mround\u001b[39m(mean,\u001b[38;5;250m \u001b[39m\u001b[38;5;241m2\u001b[39m)\u001b[38;5;132;01m}\u001b[39;00m\u001b[38;5;124m\"\u001b[39m \u001b[38;5;241m+\u001b[39m \u001b[38;5;124mr\u001b[39m\u001b[38;5;124m\"\u001b[39m\u001b[38;5;124m$_\u001b[39m\u001b[38;5;124m{\u001b[39m\u001b[38;5;124m\\\u001b[39m\u001b[38;5;124mpm \u001b[39m\u001b[38;5;124m\"\u001b[39m \u001b[38;5;241m+\u001b[39m \u001b[38;5;124mf\u001b[39m\u001b[38;5;124m\"\u001b[39m\u001b[38;5;132;01m{\u001b[39;00m\u001b[38;5;28mround\u001b[39m(std,\u001b[38;5;250m \u001b[39m\u001b[38;5;241m2\u001b[39m)\u001b[38;5;132;01m}\u001b[39;00m\u001b[38;5;124m\"\u001b[39m \u001b[38;5;241m+\u001b[39m \u001b[38;5;124mr\u001b[39m\u001b[38;5;124m\"\u001b[39m\u001b[38;5;124m}$ \u001b[39m\u001b[38;5;124m\"\u001b[39m\n\u001b[1;32m      8\u001b[0m table \u001b[38;5;241m+\u001b[39m\u001b[38;5;241m=\u001b[39m \u001b[38;5;124m\"\u001b[39m\u001b[38;5;130;01m\\n\u001b[39;00m\u001b[38;5;124m\"\u001b[39m\n",
      "\u001b[0;31mKeyError\u001b[0m: 'Pacbayes flatness'"
     ]
    }
   ],
   "source": [
    "for init in initializations:\n",
    "    table += f\"\\\\\\\\ \\\\midrule \\n \\multicolumn{{7}}{{c}}{{\\\\textbf{{{init.capitalize()}}}}} \\\\\\\\ \\\\midrule \\n\"\n",
    "    for reg in regularizations:\n",
    "        table += f\"\\\\\\\\ \\n \\\\textit{{{reg.replace('-', ' ').capitalize()}}} \"\n",
    "        for measure in measures:\n",
    "            mean, std = output[init][reg][measure]\n",
    "            table += f\"& {round(mean, 2)}\" + r\"$_{\\pm \" + f\"{round(std, 2)}\" + r\"}$ \"\n",
    "        table += \"\\n\""
   ]
  },
  {
   "cell_type": "code",
   "execution_count": null,
   "metadata": {},
   "outputs": [],
   "source": [
    "table += suffix"
   ]
  },
  {
   "cell_type": "code",
   "execution_count": null,
   "metadata": {},
   "outputs": [
    {
     "name": "stdout",
     "output_type": "stream",
     "text": [
      "\\begin{table}\n",
      "\\centering\n",
      "\\begin{tabular}{l>{\\raggedleft\\arraybackslash}p{2cm}>{\\raggedleft\\arraybackslash}p{2cm}>{\\raggedleft\\arraybackslash}p{2cm}>{\\raggedleft\\arraybackslash}p{2cm}>{\\raggedleft\\arraybackslash}p{2cm}>{\\raggedleft\\arraybackslash}p{2cm}}\n",
      "\\toprule\n",
      "& train/loss & train/acc & train/ECE & eval/loss & eval/acc & eval/ECE \\\\ \\midrule \n",
      " \\multicolumn{7}{c}{\\textbf{Baseline}} \\\\ \\midrule \n",
      "\\\\ \n",
      " \\textit{No regularisation} & 0.51$_{\\pm 0.35}$ & 0.8$_{\\pm 0.1}$ & 0.01$_{\\pm 0.0}$ & 0.98$_{\\pm 0.09}$ & 0.79$_{\\pm 0.03}$ & 0.09$_{\\pm 0.06}$ \n",
      "\\\\ \n",
      " \\textit{Dropout} & 0.12$_{\\pm 0.03}$ & 0.97$_{\\pm 0.02}$ & 0.01$_{\\pm 0.0}$ & 1.08$_{\\pm 0.05}$ & 0.85$_{\\pm 0.08}$ & 0.17$_{\\pm 0.01}$ \n",
      "\\\\ \n",
      " \\textit{Augmentation} & 0.41$_{\\pm 0.15}$ & 0.87$_{\\pm 0.04}$ & 0.01$_{\\pm 0.0}$ & 0.85$_{\\pm 0.04}$ & 0.85$_{\\pm 0.03}$ & 0.09$_{\\pm 0.01}$ \n",
      "\\\\ \\midrule \n",
      " \\multicolumn{7}{c}{\\textbf{From-adversarial}} \\\\ \\midrule \n",
      "\\\\ \n",
      " \\textit{No regularisation} & 0.02$_{\\pm 0.02}$ & 1.0$_{\\pm 0.01}$ & 0.0$_{\\pm 0.0}$ & 1.43$_{\\pm 0.04}$ & 0.83$_{\\pm 0.03}$ & 0.21$_{\\pm 0.01}$ \n",
      "\\\\ \n",
      " \\textit{Dropout} & 0.37$_{\\pm 0.49}$ & 0.88$_{\\pm 0.18}$ & 0.01$_{\\pm 0.0}$ & 1.31$_{\\pm 0.17}$ & 0.75$_{\\pm 0.05}$ & 0.15$_{\\pm 0.09}$ \n",
      "\\\\ \n",
      " \\textit{Augmentation} & 0.36$_{\\pm 0.06}$ & 0.88$_{\\pm 0.04}$ & 0.0$_{\\pm 0.0}$ & 0.96$_{\\pm 0.01}$ & 0.88$_{\\pm 0.05}$ & 0.11$_{\\pm 0.01}$ \n",
      "\\bottomrule\n",
      "\\end{tabular}\n",
      "\\caption{Various measures for VGG-19 on CIFAR-10}\n",
      "\\label{tab:measures}\n",
      "\\end{table}\n",
      "\n"
     ]
    }
   ],
   "source": [
    "print(table)"
   ]
  },
  {
   "cell_type": "code",
   "execution_count": null,
   "metadata": {},
   "outputs": [],
   "source": []
  }
 ],
 "metadata": {
  "kernelspec": {
   "display_name": "Python 3",
   "language": "python",
   "name": "python3"
  },
  "language_info": {
   "codemirror_mode": {
    "name": "ipython",
    "version": 3
   },
   "file_extension": ".py",
   "mimetype": "text/x-python",
   "name": "python",
   "nbconvert_exporter": "python",
   "pygments_lexer": "ipython3",
   "version": "3.8.18"
  }
 },
 "nbformat": 4,
 "nbformat_minor": 2
}

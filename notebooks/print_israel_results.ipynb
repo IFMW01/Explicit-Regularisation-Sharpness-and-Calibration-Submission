{
 "cells": [
  {
   "cell_type": "code",
   "execution_count": 34,
   "metadata": {},
   "outputs": [],
   "source": [
    "import copy\n",
    "from pprint import pprint\n",
    "\n",
    "import numpy as np\n",
    "import yaml\n",
    "from easydict import EasyDict\n",
    "from tqdm import tqdm\n",
    "\n",
    "import wandb"
   ]
  },
  {
   "cell_type": "code",
   "execution_count": 35,
   "metadata": {},
   "outputs": [],
   "source": [
    "api = wandb.Api()"
   ]
  },
  {
   "cell_type": "code",
   "execution_count": 36,
   "metadata": {},
   "outputs": [],
   "source": [
    "with open(\"../configs/base_config.yaml\", \"r\") as file:\n",
    "    base_config = EasyDict(yaml.safe_load(file))\n",
    "\n",
    "with open(\"../configs/igs_config.yaml\", \"r\") as file:\n",
    "    igs_config = EasyDict(yaml.safe_load(file))\n",
    "\n",
    "with open(\"../configs/relative_flatness_config.yaml\", \"r\") as file:\n",
    "    relative_flatness_config = EasyDict(yaml.safe_load(file))"
   ]
  },
  {
   "cell_type": "code",
   "execution_count": 37,
   "metadata": {},
   "outputs": [],
   "source": [
    "models = [\"best_model\", \"model\", \"temp_best_model\", \"temp_model\"]"
   ]
  },
  {
   "cell_type": "code",
   "execution_count": 38,
   "metadata": {},
   "outputs": [],
   "source": [
    "metrics = [\"acc\", \"ece\", \"squared_euclidean_norm\", \"relative_flatness\", \"IGS\"]"
   ]
  },
  {
   "cell_type": "code",
   "execution_count": 39,
   "metadata": {},
   "outputs": [],
   "source": [
    "approaches = [\"no-regularisation\", \"augmentation\", \"dropout_0.1\", \"dropout_0.5\", \"weight_decay0.05\", \"weight_decay0.1\"]"
   ]
  },
  {
   "cell_type": "code",
   "execution_count": 40,
   "metadata": {},
   "outputs": [],
   "source": [
    "runs = api.runs(f\"{base_config.wandb.entity}/VGG19_CIFAR10_\")"
   ]
  },
  {
   "cell_type": "code",
   "execution_count": 41,
   "metadata": {},
   "outputs": [
    {
     "name": "stderr",
     "output_type": "stream",
     "text": [
      "100%|██████████| 42/42 [00:00<00:00, 12921.64it/s]\n"
     ]
    }
   ],
   "source": [
    "results = {model: {approach: {metric: {} for metric in metrics} for approach in approaches} for model in models}\n",
    "\n",
    "for run in tqdm(runs):\n",
    "    for approach in approaches:\n",
    "        if run.name.startswith(f\"VGG19-CIFAR10-baseline-with-{approach}\"):\n",
    "            seed = run.name.split(\"-seed-\")[-1]\n",
    "            for metric in metrics:\n",
    "                if metric in run.config['metrics']:\n",
    "                    for model in models:\n",
    "                        results[model][approach][metric][seed] = run.summary[f\"eval_metrics_{model}/{metric}\"]"
   ]
  },
  {
   "cell_type": "code",
   "execution_count": 43,
   "metadata": {},
   "outputs": [],
   "source": [
    "processed_results = copy.deepcopy(results)\n",
    "\n",
    "for model in models:\n",
    "    for approach in approaches:\n",
    "        for metric in metrics:\n",
    "            num_results = len(results[model][approach][metric])\n",
    "            if num_results == 1:\n",
    "                processed_results[model][approach][metric] = (list(results[model][approach][metric].values())[0], 0)\n",
    "            else:\n",
    "                processed_results[model][approach][metric] = (np.mean(list(results[model][approach][metric].values())),\n",
    "                                                    np.std(list(results[model][approach][metric].values())))"
   ]
  },
  {
   "cell_type": "code",
   "execution_count": 67,
   "metadata": {},
   "outputs": [
    {
     "name": "stdout",
     "output_type": "stream",
     "text": [
      "\\begin{table}\n",
      "    \\centering\n",
      "    \\begin{tabular}{l>{\\raggedleft\\arraybackslash}p{2cm}>{\\raggedleft\\arraybackslash}p{2cm}>{\\raggedleft\\arraybackslash}p{2cm}>{\\raggedleft\\arraybackslash}p{2cm}>{\\raggedleft\\arraybackslash}p{2cm}>{\\raggedleft\\arraybackslash}p{2cm}}\n",
      "    \\toprule\n",
      "    \\textbf{Regularizer} & \\textbf{Accuracy} & \\textbf{ECE} & \\textbf{Squared euclidean norm} & \\textbf{Relative flatness} & \\textbf{IGS} \\\\ \\midrule\n",
      "\t\\textit{no regularisation} & 0.75$_{\\pm 0.00}$ & 0.17$_{\\pm 0.00}$ & 6.66$_{\\pm 0.05}$ & 0.16$_{\\pm 0.00}$ & 0.01$_{\\pm 0.00}$ \\\\\n",
      "\t\\textit{augmentation} & 0.73$_{\\pm 0.01}$ & 0.10$_{\\pm 0.01}$ & 5.93$_{\\pm 0.05}$ & 14.56$_{\\pm 0.74}$ & 13.52$_{\\pm 0.00}$ \\\\\n",
      "\t\\textit{Dropout} \\\\\n",
      "\t\\textit{\\quad = 0.1} & 0.76$_{\\pm 0.01}$ & 0.17$_{\\pm 0.01}$ & 7.19$_{\\pm 0.08}$ & 0.16$_{\\pm 0.01}$ & 0.01$_{\\pm 0.00}$ \\\\\n",
      "\t\\textit{\\quad = 0.5} & 0.75$_{\\pm 0.01}$ & 0.17$_{\\pm 0.01}$ & 9.01$_{\\pm 0.11}$ & 0.21$_{\\pm 0.02}$ & 0.02$_{\\pm 0.00}$ \\\\\n",
      "\tWeight decay \\\\\n",
      "\t\\textit{\\quad = 0.05} & 0.74$_{\\pm 0.01}$ & 0.06$_{\\pm 0.00}$ & 8.74$_{\\pm 0.02}$ & 5.19$_{\\pm 0.02}$ & 38.96$_{\\pm 0.00}$ \\\\\n",
      "\t\\textit{\\quad = 0.1} & 0.73$_{\\pm 0.03}$ & 0.17$_{\\pm 0.02}$ & 8.82$_{\\pm 0.02}$ & 4.66$_{\\pm 0.04}$ & 28.04$_{\\pm 0.00}$ \\\\\n",
      "    \\bottomrule \\\\\n",
      "    \\end{tabular}\n",
      "    \\caption{Results for VGG-19 on CIFAR-10 for best model}\n",
      "    \\label{tab:measures}\n",
      "\\end{table}\n",
      "    \n",
      "\n",
      "\n",
      "\n",
      "\n",
      "\\begin{table}\n",
      "    \\centering\n",
      "    \\begin{tabular}{l>{\\raggedleft\\arraybackslash}p{2cm}>{\\raggedleft\\arraybackslash}p{2cm}>{\\raggedleft\\arraybackslash}p{2cm}>{\\raggedleft\\arraybackslash}p{2cm}>{\\raggedleft\\arraybackslash}p{2cm}>{\\raggedleft\\arraybackslash}p{2cm}}\n",
      "    \\toprule\n",
      "    \\textbf{Regularizer} & \\textbf{Accuracy} & \\textbf{ECE} & \\textbf{Squared euclidean norm} & \\textbf{Relative flatness} & \\textbf{IGS} \\\\ \\midrule\n",
      "\t\\textit{no regularisation} & 0.75$_{\\pm 0.00}$ & 0.17$_{\\pm 0.00}$ & 6.63$_{\\pm 0.03}$ & 0.16$_{\\pm 0.00}$ & 0.01$_{\\pm 0.00}$ \\\\\n",
      "\t\\textit{augmentation} & 0.73$_{\\pm 0.01}$ & 0.10$_{\\pm 0.01}$ & 5.93$_{\\pm 0.05}$ & 14.61$_{\\pm 0.73}$ & 18.97$_{\\pm 0.00}$ \\\\\n",
      "\t\\textit{Dropout} \\\\\n",
      "\t\\textit{\\quad = 0.1} & 0.76$_{\\pm 0.00}$ & 0.17$_{\\pm 0.00}$ & 7.18$_{\\pm 0.08}$ & 0.16$_{\\pm 0.01}$ & 0.01$_{\\pm 0.00}$ \\\\\n",
      "\t\\textit{\\quad = 0.5} & 0.76$_{\\pm 0.01}$ & 0.17$_{\\pm 0.01}$ & 8.95$_{\\pm 0.15}$ & 0.21$_{\\pm 0.02}$ & 0.02$_{\\pm 0.00}$ \\\\\n",
      "\tWeight decay \\\\\n",
      "\t\\textit{\\quad = 0.05} & 0.76$_{\\pm 0.01}$ & 0.06$_{\\pm 0.01}$ & 7.91$_{\\pm 0.68}$ & 5.19$_{\\pm 0.02}$ & 30.82$_{\\pm 0.00}$ \\\\\n",
      "\t\\textit{\\quad = 0.1} & 0.77$_{\\pm 0.01}$ & 0.22$_{\\pm 0.01}$ & 8.35$_{\\pm 0.09}$ & 4.66$_{\\pm 0.04}$ & 22.58$_{\\pm 0.00}$ \\\\\n",
      "    \\bottomrule \\\\\n",
      "    \\end{tabular}\n",
      "    \\caption{Results for VGG-19 on CIFAR-10 for model}\n",
      "    \\label{tab:measures}\n",
      "\\end{table}\n",
      "    \n",
      "\n",
      "\n",
      "\n",
      "\n",
      "\\begin{table}\n",
      "    \\centering\n",
      "    \\begin{tabular}{l>{\\raggedleft\\arraybackslash}p{2cm}>{\\raggedleft\\arraybackslash}p{2cm}>{\\raggedleft\\arraybackslash}p{2cm}>{\\raggedleft\\arraybackslash}p{2cm}>{\\raggedleft\\arraybackslash}p{2cm}>{\\raggedleft\\arraybackslash}p{2cm}}\n",
      "    \\toprule\n",
      "    \\textbf{Regularizer} & \\textbf{Accuracy} & \\textbf{ECE} & \\textbf{Squared euclidean norm} & \\textbf{Relative flatness} & \\textbf{IGS} \\\\ \\midrule\n",
      "\t\\textit{no regularisation} & 0.75$_{\\pm 0.00}$ & 0.09$_{\\pm 0.00}$ & 6.66$_{\\pm 0.05}$ & 2.52$_{\\pm 0.01}$ & 0.40$_{\\pm 0.00}$ \\\\\n",
      "\t\\textit{augmentation} & 0.73$_{\\pm 0.01}$ & 0.03$_{\\pm 0.01}$ & 5.93$_{\\pm 0.05}$ & 12.77$_{\\pm 0.47}$ & 11.89$_{\\pm 0.00}$ \\\\\n",
      "\t\\textit{Dropout} \\\\\n",
      "\t\\textit{\\quad = 0.1} & 0.76$_{\\pm 0.01}$ & 0.09$_{\\pm 0.01}$ & 7.19$_{\\pm 0.08}$ & 2.48$_{\\pm 0.05}$ & 0.44$_{\\pm 0.00}$ \\\\\n",
      "\t\\textit{\\quad = 0.5} & 0.75$_{\\pm 0.01}$ & 0.09$_{\\pm 0.01}$ & 9.01$_{\\pm 0.11}$ & 2.63$_{\\pm 0.06}$ & 0.55$_{\\pm 0.00}$ \\\\\n",
      "\tWeight decay \\\\\n",
      "\t\\textit{\\quad = 0.05} & 0.74$_{\\pm 0.01}$ & 0.07$_{\\pm 0.00}$ & 8.74$_{\\pm 0.02}$ & 5.30$_{\\pm 0.02}$ & 32.53$_{\\pm 0.00}$ \\\\\n",
      "\t\\textit{\\quad = 0.1} & 0.73$_{\\pm 0.03}$ & 0.28$_{\\pm 0.01}$ & 8.82$_{\\pm 0.02}$ & 3.70$_{\\pm 0.05}$ & 35.17$_{\\pm 0.00}$ \\\\\n",
      "    \\bottomrule \\\\\n",
      "    \\end{tabular}\n",
      "    \\caption{Results for VGG-19 on CIFAR-10 for temp best model}\n",
      "    \\label{tab:measures}\n",
      "\\end{table}\n",
      "    \n",
      "\n",
      "\n",
      "\n",
      "\n",
      "\\begin{table}\n",
      "    \\centering\n",
      "    \\begin{tabular}{l>{\\raggedleft\\arraybackslash}p{2cm}>{\\raggedleft\\arraybackslash}p{2cm}>{\\raggedleft\\arraybackslash}p{2cm}>{\\raggedleft\\arraybackslash}p{2cm}>{\\raggedleft\\arraybackslash}p{2cm}>{\\raggedleft\\arraybackslash}p{2cm}}\n",
      "    \\toprule\n",
      "    \\textbf{Regularizer} & \\textbf{Accuracy} & \\textbf{ECE} & \\textbf{Squared euclidean norm} & \\textbf{Relative flatness} & \\textbf{IGS} \\\\ \\midrule\n",
      "\t\\textit{no regularisation} & 0.75$_{\\pm 0.00}$ & 0.09$_{\\pm 0.00}$ & 6.63$_{\\pm 0.03}$ & 2.50$_{\\pm 0.02}$ & 0.40$_{\\pm 0.00}$ \\\\\n",
      "\t\\textit{augmentation} & 0.73$_{\\pm 0.01}$ & 0.03$_{\\pm 0.00}$ & 5.93$_{\\pm 0.05}$ & 12.83$_{\\pm 0.46}$ & 12.98$_{\\pm 0.00}$ \\\\\n",
      "\t\\textit{Dropout} \\\\\n",
      "\t\\textit{\\quad = 0.1} & 0.76$_{\\pm 0.00}$ & 0.09$_{\\pm 0.00}$ & 7.18$_{\\pm 0.08}$ & 2.48$_{\\pm 0.05}$ & 0.44$_{\\pm 0.00}$ \\\\\n",
      "\t\\textit{\\quad = 0.5} & 0.76$_{\\pm 0.01}$ & 0.09$_{\\pm 0.01}$ & 8.95$_{\\pm 0.15}$ & 2.60$_{\\pm 0.07}$ & 0.53$_{\\pm 0.00}$ \\\\\n",
      "\tWeight decay \\\\\n",
      "\t\\textit{\\quad = 0.05} & 0.50$_{\\pm 0.35}$ & 0.08$_{\\pm 0.02}$ & 7.91$_{\\pm 0.68}$ & 3.73$_{\\pm 2.21}$ & 27.64$_{\\pm 0.00}$ \\\\\n",
      "\t\\textit{\\quad = 0.1} & 0.77$_{\\pm 0.01}$ & 0.32$_{\\pm 0.01}$ & 8.35$_{\\pm 0.09}$ & 3.81$_{\\pm 0.02}$ & 33.49$_{\\pm 0.00}$ \\\\\n",
      "    \\bottomrule \\\\\n",
      "    \\end{tabular}\n",
      "    \\caption{Results for VGG-19 on CIFAR-10 for temp model}\n",
      "    \\label{tab:measures}\n",
      "\\end{table}\n",
      "    \n",
      "\n",
      "\n",
      "\n",
      "\n"
     ]
    }
   ],
   "source": [
    "prefix = r\"\"\"\\begin{table}\n",
    "    \\centering\n",
    "    \\begin{tabular}{l>{\\raggedleft\\arraybackslash}p{2cm}>{\\raggedleft\\arraybackslash}p{2cm}>{\\raggedleft\\arraybackslash}p{2cm}>{\\raggedleft\\arraybackslash}p{2cm}>{\\raggedleft\\arraybackslash}p{2cm}>{\\raggedleft\\arraybackslash}p{2cm}}\n",
    "    \\toprule\n",
    "    \\textbf{Regularizer} & \\textbf{Accuracy} & \\textbf{ECE} & \\textbf{Squared euclidean norm} & \\textbf{Relative flatness} & \\textbf{IGS} \\\\ \\midrule\"\"\"\n",
    "\n",
    "for model in models:\n",
    "\n",
    "    table = prefix\n",
    "\n",
    "    for approach in approaches:\n",
    "        if approach.startswith(\"dropout\"):\n",
    "            if approach.endswith(\"0.1\"):\n",
    "                table += f\"\\n\\t\\\\textit{{Dropout}} \\\\\\\\\"\n",
    "            approach_name = \"\\\\quad = \" + approach.replace(\"dropout_\", \"\")\n",
    "        elif approach.startswith(\"weight_decay\"):\n",
    "            if approach.endswith(\"0.05\"):\n",
    "                table += f\"\\n\\tWeight decay \\\\\\\\\"\n",
    "            approach_name = \"\\\\quad = \" + approach.replace(\"weight_decay\", \"\")\n",
    "        else:\n",
    "            approach_name = approach\n",
    "        approach_name = approach_name.replace(\"_\", \" \").replace(\"-\", \" \")\n",
    "        approach_name_italicized_latex = f\"\\\\textit{{{approach_name}}}\"\n",
    "        table += f\"\\n\\t{approach_name_italicized_latex} \"\n",
    "        for metric in metrics:\n",
    "            table += f\"& {processed_results[model][approach][metric][0]:.2f}$_{{\\pm {processed_results[model][approach][metric][1]:.2f}}}$ \"\n",
    "        table += r\"\\\\\"\n",
    "\n",
    "    model = model.replace(\"_\", \" \")\n",
    "\n",
    "    table += r\"\"\"\n",
    "    \\bottomrule \\\\\n",
    "    \\end{tabular}\n",
    "    \\caption{Results for VGG-19 on CIFAR-10 for \"\"\" + model + r\"\"\"}\n",
    "    \\label{tab:measures}\n",
    "\\end{table}\n",
    "    \"\"\"\n",
    "\n",
    "    print(table)\n",
    "    print(\"\\n\\n\\n\")"
   ]
  },
  {
   "cell_type": "code",
   "execution_count": null,
   "metadata": {},
   "outputs": [],
   "source": []
  }
 ],
 "metadata": {
  "kernelspec": {
   "display_name": "Python 3",
   "language": "python",
   "name": "python3"
  },
  "language_info": {
   "codemirror_mode": {
    "name": "ipython",
    "version": 3
   },
   "file_extension": ".py",
   "mimetype": "text/x-python",
   "name": "python",
   "nbconvert_exporter": "python",
   "pygments_lexer": "ipython3",
   "version": "3.8.18"
  }
 },
 "nbformat": 4,
 "nbformat_minor": 2
}
